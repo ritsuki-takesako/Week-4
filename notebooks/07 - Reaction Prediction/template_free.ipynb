{
  "cells": [
    {
      "cell_type": "markdown",
      "id": "b4b4d368-3e7e-461d-bd7f-1c81a791e14d",
      "metadata": {
        "id": "b4b4d368-3e7e-461d-bd7f-1c81a791e14d"
      },
      "source": [
        "<a href=\"https://colab.research.google.com/github/schwallergroup/ai4chem_course/blob/main/notebooks/07%20-%20Reaction%20Prediction/template_free.ipynb\" target=\"_parent\"><img src=\"https://colab.research.google.com/assets/colab-badge.svg\" alt=\"Open In Colab\"/></a>"
      ]
    },
    {
      "cell_type": "markdown",
      "id": "92e284fe-c36c-47cc-b8d6-e716043b2c0c",
      "metadata": {
        "id": "92e284fe-c36c-47cc-b8d6-e716043b2c0c"
      },
      "source": [
        "# Week 7: reaction prediction with Molecular Transformer\n",
        "\n",
        "We have talked about different reaction prediction methods. Template-based approaches use reaction templates to select the most likely reaction outcome. However, these models are limited by the dataset (the model can just learn reaction classes, and is not able to get deeper features), quality and quantity of the templates (you can only predict reactions that are included in your templates, and the model will be heavily dependent on the quality of the atom mapping), and they cannot predict selectivity.\n",
        "\n",
        "On the other hand, template-free models can overcome many of these limitations. Today, we will use a language model, the Molecular Transformer, to do chemical reaction prediction. You can check the original paper [here](https://pubs.acs.org/doi/full/10.1021/acscentsci.9b00576).\n",
        "\n",
        "This model is based on the Transformer architecture, which is behind some of the most remarkable AI models of the last years (eg. [AlphaFold2](https://www.nature.com/articles/s41586-021-03819-2) or [ChatGPT](https://chat.openai.com/)). Basically, we will treat reaction prediction as a machine translation model, where the model will learn the \"grammar of the reactions\". Some of the main advantages of the model are\n",
        "\n",
        "![](https://pubs.acs.org/cms/10.1021/acscentsci.9b00576/asset/images/medium/oc9b00576_0009.gif)\n",
        "</br><left>Figure 1: SMILES-to-SMILES translation with the Molecular Transformer"
      ]
    },
    {
      "cell_type": "markdown",
      "id": "20519980",
      "metadata": {
        "id": "20519980"
      },
      "source": [
        "# 0. Relevant packages\n",
        "\n",
        "### OpenNMT\n",
        "OpenNMT is an open-source library for translation tasks. We will use it to create and train our model as it is a flexible and easy to use framework. You can check the documentation [here](https://opennmt.net/OpenNMT-py/index.html).\n",
        "\n",
        "We will also use rdkit and other common auxiliary libraries."
      ]
    },
    {
      "cell_type": "code",
      "execution_count": 1,
      "id": "de815270",
      "metadata": {
        "id": "de815270",
        "outputId": "1cdb58f4-d5f0-41e9-f5d3-59467b1847fb",
        "colab": {
          "base_uri": "https://localhost:8080/"
        }
      },
      "outputs": [
        {
          "output_type": "execute_result",
          "data": {
            "text/plain": [
              "True"
            ]
          },
          "metadata": {},
          "execution_count": 1
        }
      ],
      "source": [
        "# check if you have a notebook with a GPU\n",
        "import torch\n",
        "torch.cuda.is_available()\n",
        "# If False, Go to Menu > Runtime > Change runtime. Hardware accelerator -> GPU"
      ]
    },
    {
      "cell_type": "code",
      "execution_count": 2,
      "id": "ac68d101-45a4-4a58-b108-6e532d295006",
      "metadata": {
        "id": "ac68d101-45a4-4a58-b108-6e532d295006",
        "outputId": "54463b74-fe15-4778-8ae3-510db60681c3",
        "colab": {
          "base_uri": "https://localhost:8080/"
        }
      },
      "outputs": [
        {
          "output_type": "stream",
          "name": "stdout",
          "text": [
            "Collecting rdkit-pypi==2022.3.1\n",
            "  Downloading rdkit_pypi-2022.3.1-cp310-cp310-manylinux_2_17_x86_64.manylinux2014_x86_64.whl.metadata (3.2 kB)\n",
            "Requirement already satisfied: numpy>=1.19 in /usr/local/lib/python3.10/dist-packages (from rdkit-pypi==2022.3.1) (1.26.4)\n",
            "Requirement already satisfied: Pillow in /usr/local/lib/python3.10/dist-packages (from rdkit-pypi==2022.3.1) (10.4.0)\n",
            "Downloading rdkit_pypi-2022.3.1-cp310-cp310-manylinux_2_17_x86_64.manylinux2014_x86_64.whl (22.7 MB)\n",
            "\u001b[2K   \u001b[90m━━━━━━━━━━━━━━━━━━━━━━━━━━━━━━━━━━━━━━━━\u001b[0m \u001b[32m22.7/22.7 MB\u001b[0m \u001b[31m1.6 MB/s\u001b[0m eta \u001b[36m0:00:00\u001b[0m\n",
            "\u001b[?25hInstalling collected packages: rdkit-pypi\n",
            "Successfully installed rdkit-pypi-2022.3.1\n",
            "Requirement already satisfied: pip in /usr/local/lib/python3.10/dist-packages (24.1.2)\n",
            "\u001b[31mERROR: Could not find a version that satisfies the requirement install (from versions: none)\u001b[0m\u001b[31m\n",
            "\u001b[0m\u001b[31mERROR: No matching distribution found for install\u001b[0m\u001b[31m\n",
            "\u001b[0m--2024-11-02 23:59:03--  https://raw.githubusercontent.com/schwallergroup/ai4chem_course/main/notebooks/07%20-%20Reaction%20Prediction/utils.py\n",
            "Resolving raw.githubusercontent.com (raw.githubusercontent.com)... 185.199.111.133, 185.199.108.133, 185.199.109.133, ...\n",
            "Connecting to raw.githubusercontent.com (raw.githubusercontent.com)|185.199.111.133|:443... connected.\n",
            "HTTP request sent, awaiting response... 200 OK\n",
            "Length: 4725 (4.6K) [text/plain]\n",
            "Saving to: ‘utils.py’\n",
            "\n",
            "utils.py            100%[===================>]   4.61K  --.-KB/s    in 0s      \n",
            "\n",
            "2024-11-02 23:59:03 (67.1 MB/s) - ‘utils.py’ saved [4725/4725]\n",
            "\n"
          ]
        }
      ],
      "source": [
        "!pip install rdkit-pypi==2022.3.1\n",
        "!pip install pip install OpenNMT-py==2.2.0\n",
        "!wget https://raw.githubusercontent.com/schwallergroup/ai4chem_course/main/notebooks/07%20-%20Reaction%20Prediction/utils.py"
      ]
    },
    {
      "cell_type": "code",
      "execution_count": 3,
      "id": "2cc57062-f29a-4317-b622-d60df8fb7bb0",
      "metadata": {
        "id": "2cc57062-f29a-4317-b622-d60df8fb7bb0"
      },
      "outputs": [],
      "source": [
        "import re\n",
        "import os\n",
        "import gdown\n",
        "import random\n",
        "\n",
        "import pandas as pd\n",
        "\n",
        "from tqdm.auto import tqdm\n",
        "tqdm.pandas()\n",
        "from rdkit import Chem\n",
        "\n",
        "# to display molecules\n",
        "from rdkit.Chem.Draw import IPythonConsole\n",
        "from rdkit.Chem import Draw\n",
        "IPythonConsole.ipython_useSVG=True\n",
        "\n",
        "# disable RDKit warnings\n",
        "from rdkit import RDLogger\n",
        "RDLogger.DisableLog('rdApp.*')\n",
        "\n",
        "from utils import download_data, canonicalize_smiles, evaluate"
      ]
    },
    {
      "cell_type": "markdown",
      "id": "c18f3eea-a030-4d6c-880d-fa9fd17b362f",
      "metadata": {
        "id": "c18f3eea-a030-4d6c-880d-fa9fd17b362f"
      },
      "source": [
        "# Download data"
      ]
    },
    {
      "cell_type": "markdown",
      "id": "328087c2",
      "metadata": {
        "id": "328087c2"
      },
      "source": [
        "Firstly, we will download the data for training. We will use [USPTO](https://figshare.com/articles/dataset/Chemical_reactions_from_US_patents_1976-Sep2016_/5104873), a widely used dataset containing reaction SMILES extracted from the US list of patents from 1976 to 2016."
      ]
    },
    {
      "cell_type": "code",
      "execution_count": 4,
      "id": "7195a5c3-8953-4cca-a150-daec5230f20e",
      "metadata": {
        "id": "7195a5c3-8953-4cca-a150-daec5230f20e",
        "outputId": "c7158938-54b2-43a9-ec73-69f80e121020",
        "colab": {
          "base_uri": "https://localhost:8080/"
        }
      },
      "outputs": [
        {
          "output_type": "stream",
          "name": "stderr",
          "text": [
            "Downloading...\n",
            "From: https://drive.google.com/uc?id=1RysNBvB2rsMP0Ap9XXi02XiiZkEXCrA8\n",
            "To: /content/USPTO_480k/src-train.txt\n",
            "100%|██████████| 57.4M/57.4M [00:00<00:00, 93.4MB/s]\n",
            "Downloading...\n",
            "From: https://drive.google.com/uc?id=1CxxcVqtmOmHE2nhmqPFA6bilavzpcIlb\n",
            "To: /content/USPTO_480k/tgt-train.txt\n",
            "100%|██████████| 33.8M/33.8M [00:00<00:00, 100MB/s] \n",
            "Downloading...\n",
            "From: https://drive.google.com/uc?id=1FFN1nz2yB4VwrpWaBuiBDzFzdX3ONBsy\n",
            "To: /content/USPTO_480k/src-val.txt\n",
            "100%|██████████| 4.21M/4.21M [00:00<00:00, 44.4MB/s]\n",
            "Downloading...\n",
            "From: https://drive.google.com/uc?id=1pYCjWkYvgp1ZQ78EKQBArOvt_2P1KnmI\n",
            "To: /content/USPTO_480k/tgt-val.txt\n",
            "100%|██████████| 2.47M/2.47M [00:00<00:00, 222MB/s]\n",
            "Downloading...\n",
            "From: https://drive.google.com/uc?id=10t6pHj9yR8Tp3kDvG0KMHl7Bt_TUbQ8W\n",
            "To: /content/USPTO_480k/src-test.txt\n",
            "100%|██████████| 5.64M/5.64M [00:00<00:00, 47.8MB/s]\n",
            "Downloading...\n",
            "From: https://drive.google.com/uc?id=1FeGuiGuz0chVBRgePMu0pGJA4FVReA-b\n",
            "To: /content/USPTO_480k/tgt-test.txt\n",
            "100%|██████████| 3.30M/3.30M [00:00<00:00, 210MB/s]\n"
          ]
        },
        {
          "output_type": "stream",
          "name": "stdout",
          "text": [
            "The training set contains 409035 reactions.\n",
            "The testing set contains 40000 reactions.\n",
            "The validation set contains 30000 reactions.\n"
          ]
        }
      ],
      "source": [
        "train_df, val_df, test_df = download_data()"
      ]
    },
    {
      "cell_type": "markdown",
      "id": "559456c8",
      "metadata": {
        "id": "559456c8"
      },
      "source": [
        "After running this cell you should get these sets (check the USPTO_480 folder in your Colab directory):\n",
        "\n",
        "    - Train: we will use these reaction SMILES to train the model\n",
        "    - Validation: used for checking the learning progress during training and hyperparameter tuning\n",
        "    - Test: we will use these data only once we get the final model to test its performance\n",
        "\n",
        "Each set contains two `.txt` files, one containing the precursors (reactants, src) and another containing the targets (products, tgt). Remember that our task can be seen as a translation between two sequences, reactants and products SMILES in this case."
      ]
    },
    {
      "cell_type": "markdown",
      "id": "3ca37560-5b6b-4679-8cc6-8bfcdc556b19",
      "metadata": {
        "id": "3ca37560-5b6b-4679-8cc6-8bfcdc556b19"
      },
      "source": [
        "# Tokenization <a class=\"anchor\" id=\"third-bullet\"></a>\n",
        "\n",
        "We already mentioned tokenization in the previous tutorial when training the LSTM. To be able to train a language model, we need to split the strings into tokens.\n",
        "\n",
        "We take the regex pattern introduced in the [Molecular Transformer](https://pubs.acs.org/doi/abs/10.1021/acscentsci.9b00576) paper."
      ]
    },
    {
      "cell_type": "code",
      "execution_count": 5,
      "id": "9fb59cf9-b9b2-4722-aaf7-bf4ad53cb2ca",
      "metadata": {
        "id": "9fb59cf9-b9b2-4722-aaf7-bf4ad53cb2ca",
        "outputId": "3d41a540-aae8-4514-99ec-2b542ad39184",
        "colab": {
          "base_uri": "https://localhost:8080/",
          "height": 263,
          "referenced_widgets": [
            "4b3020bafbf84155862b4100ec114cac",
            "efb248584d9e4cd9971df201c33671f8",
            "993ad52e9f4d48e8872f877f5742f5a7",
            "dc514077ca5d4bc2ae46eaef3daf5406",
            "5a73379e63bb4fc58cf648ca02112ce7",
            "b4b25979f9274ad49fa5dbde7f359736",
            "f754c55014df4873843a3acbc37e350a",
            "eacfdd081a8e40d5a02db27b533ba01d",
            "a26f098663614535b09ecce226e04df7",
            "014f8d47f35b43e0977bd6528cea998c",
            "e9fdcaf3a57340e595fc616fde1f26d8",
            "5ef472c4b65c4672904250fd9bef8a47",
            "e12e41a7422946e18b922663f8cd1b11",
            "d6e03682ca5b444c8c871831101296e8",
            "9dff69265d1c4469848ba8c1345d318b",
            "82969e842e6d4d0fb2c6cd4056321e55",
            "1d0a4e1c58b548f7ba5fa08aaa831e87",
            "dd41a2dda59d4e9cb361d0c74bc111c8",
            "147dc31c2d1044e6b79bbc2ce07058ca",
            "848d78ae856c425094e8f7fef6c633c2",
            "fc36746ef4f74ab28c97bee789326e74",
            "f35508dacad94b4f8d3c4a9e98524ca9",
            "2424debd972741c8a0db04804c835b16",
            "e8519f1709f8461a8a3804386faf54b7",
            "a6ad7858302546c0a02140b174e4a180",
            "939596fa84b344679f249064b8e4e5a6",
            "7344bf8535fc40729fe1f82e1cdf725c",
            "20854a01c2f54497a8016bc220a27b55",
            "423fe5358cd4420cba7368b4bfa30936",
            "c4007364d708484ba06109ff5f0a173e",
            "d3e9a2978611474e931f1c8d5b300ace",
            "e3d9329b38f44c0ab1410950a17f38c3",
            "be76efdf1aa14fc88824d4f5f1824137",
            "f5e3b040e6164d4491545be9e2e7be58",
            "dfc5648da8a748538954cf0359ceae51",
            "69ea96f6dfe24ce7b7cfe3c1cf8721ea",
            "5ca81f9753a74457a6fa76b77e57d6db",
            "945287c3d08f488483b3450c5b4b70f1",
            "85d8d0c5c291436f9f9292afa614ac6e",
            "1ee0ba035c324cb5b98fb2aa261542f2",
            "4537430e899448d68b955462a77f9285",
            "2fefbe39ebf8459f9ae6c1138e1de5a1",
            "c301eefb00cd4f97938208a0efdd135e",
            "f869ab58958948c4930a710eecaedda6",
            "2b9b17e2dcec4923a49045565c67299b",
            "1057e56bbab4457eb2c9cebfb17dae4e",
            "d78b590f2e5a41849a8fbbf4729961b4",
            "e91bf944c5ac4107889ae6de5a3f89e5",
            "1a7a3e61bb1f453a862bf0c1fd795587",
            "f09655b9b5784a58a55e3e930ae51d42",
            "674483d5be584073b20dc04ab75c5653",
            "5951fe05a6374f5180a3a3a83afd6626",
            "00a5b4698294489cb10884f3e0dd6720",
            "1e7c5206a9354391b818a36f9c1c0bfb",
            "fe9e8feea35d42fda48ae0debd26d996",
            "042d412dcf1a487e8c954e002339ace3",
            "a4cf6a9bd2904ec88def550d18be44bf",
            "4f160f8218dd495cb623920cdcef5d30",
            "0e02a2830d284b308c739c244358f121",
            "6f066851612d4089ab186f78f6cb8eab",
            "2d75b9425d5044aaa79ba7cfb1432bb3",
            "6f01e2ad48d64009bbbd24747946ff35",
            "3c4f946d90f3468b89ef6ac9ba522378",
            "c8400d2b64de4717978475b2306cce1a",
            "574b7a88509e432f98a428f4e28e3851",
            "4330644018724ddc93ec54a0b04fde62"
          ]
        }
      },
      "outputs": [
        {
          "output_type": "stream",
          "name": "stdout",
          "text": [
            "Tokenizing training set\n"
          ]
        },
        {
          "output_type": "display_data",
          "data": {
            "text/plain": [
              "  0%|          | 0/409035 [00:00<?, ?it/s]"
            ],
            "application/vnd.jupyter.widget-view+json": {
              "version_major": 2,
              "version_minor": 0,
              "model_id": "4b3020bafbf84155862b4100ec114cac"
            }
          },
          "metadata": {}
        },
        {
          "output_type": "display_data",
          "data": {
            "text/plain": [
              "  0%|          | 0/409035 [00:00<?, ?it/s]"
            ],
            "application/vnd.jupyter.widget-view+json": {
              "version_major": 2,
              "version_minor": 0,
              "model_id": "5ef472c4b65c4672904250fd9bef8a47"
            }
          },
          "metadata": {}
        },
        {
          "output_type": "stream",
          "name": "stdout",
          "text": [
            "Tokenizing validation set\n"
          ]
        },
        {
          "output_type": "display_data",
          "data": {
            "text/plain": [
              "  0%|          | 0/30000 [00:00<?, ?it/s]"
            ],
            "application/vnd.jupyter.widget-view+json": {
              "version_major": 2,
              "version_minor": 0,
              "model_id": "2424debd972741c8a0db04804c835b16"
            }
          },
          "metadata": {}
        },
        {
          "output_type": "display_data",
          "data": {
            "text/plain": [
              "  0%|          | 0/30000 [00:00<?, ?it/s]"
            ],
            "application/vnd.jupyter.widget-view+json": {
              "version_major": 2,
              "version_minor": 0,
              "model_id": "f5e3b040e6164d4491545be9e2e7be58"
            }
          },
          "metadata": {}
        },
        {
          "output_type": "stream",
          "name": "stdout",
          "text": [
            "Tokenizing test set\n"
          ]
        },
        {
          "output_type": "display_data",
          "data": {
            "text/plain": [
              "  0%|          | 0/40000 [00:00<?, ?it/s]"
            ],
            "application/vnd.jupyter.widget-view+json": {
              "version_major": 2,
              "version_minor": 0,
              "model_id": "2b9b17e2dcec4923a49045565c67299b"
            }
          },
          "metadata": {}
        },
        {
          "output_type": "display_data",
          "data": {
            "text/plain": [
              "  0%|          | 0/40000 [00:00<?, ?it/s]"
            ],
            "application/vnd.jupyter.widget-view+json": {
              "version_major": 2,
              "version_minor": 0,
              "model_id": "042d412dcf1a487e8c954e002339ace3"
            }
          },
          "metadata": {}
        }
      ],
      "source": [
        "SMI_REGEX_PATTERN =  r\"(\\%\\([0-9]{3}\\)|\\[[^\\]]+]|Br?|Cl?|N|O|S|P|F|I|b|c|n|o|s|p|\\||\\(|\\)|\\.|=|#|-|\\+|\\\\|\\/|:|~|@|\\?|>>?|\\*|\\$|\\%[0-9]{2}|[0-9])\"\n",
        "\n",
        "def smiles_tokenizer(smiles):\n",
        "    smiles_regex = re.compile(SMI_REGEX_PATTERN)\n",
        "    tokens = [token for token in smiles_regex.findall(smiles)]\n",
        "    return ' '.join(tokens)\n",
        "\n",
        "\n",
        "print('Tokenizing training set')\n",
        "train_df['tokenized_precursors'] = train_df.precursors.progress_apply(lambda smi: smiles_tokenizer(smi))\n",
        "train_df['tokenized_products'] = train_df.products.progress_apply(lambda smi: smiles_tokenizer(smi))\n",
        "print('Tokenizing validation set')\n",
        "val_df['tokenized_precursors'] = val_df.precursors.progress_apply(lambda smi: smiles_tokenizer(smi))\n",
        "val_df['tokenized_products'] = val_df.products.progress_apply(lambda smi: smiles_tokenizer(smi))\n",
        "print('Tokenizing test set')\n",
        "test_df['tokenized_precursors'] = test_df.precursors.progress_apply(lambda smi: smiles_tokenizer(smi))\n",
        "test_df['tokenized_products'] = test_df.products.progress_apply(lambda smi: smiles_tokenizer(smi))"
      ]
    },
    {
      "cell_type": "markdown",
      "id": "83597c51-fc70-4a25-b724-ee60048fdd79",
      "metadata": {
        "id": "83597c51-fc70-4a25-b724-ee60048fdd79"
      },
      "source": [
        "## Save the preprocessed data set\n",
        "\n",
        "Don't forget to shuffle the training set before saving it. At least earlier versions of OpenNMT-py would not shuffle it during preprocessing. After that, we save the tokenized files, which are now ready to use for training."
      ]
    },
    {
      "cell_type": "code",
      "execution_count": 6,
      "id": "12b9bfed-c244-4bbd-843b-1c889bf0f7a1",
      "metadata": {
        "id": "12b9bfed-c244-4bbd-843b-1c889bf0f7a1"
      },
      "outputs": [],
      "source": [
        "shuffled_train_df = train_df.sample(frac=1., random_state=42)\n",
        "data_path = 'USPTO_480k_preprocessed'\n",
        "\n",
        "os.makedirs(data_path, exist_ok=True)\n",
        "with open(os.path.join(data_path, 'precursors-train.txt'), 'w') as f:\n",
        "    f.write('\\n'.join(shuffled_train_df.tokenized_precursors.values))\n",
        "with open(os.path.join(data_path, 'products-train.txt'), 'w') as f:\n",
        "    f.write('\\n'.join(shuffled_train_df.tokenized_products.values))\n",
        "\n",
        "with open(os.path.join(data_path, 'precursors-val.txt'), 'w') as f:\n",
        "    f.write('\\n'.join(val_df.tokenized_precursors.values))\n",
        "with open(os.path.join(data_path, 'products-val.txt'), 'w') as f:\n",
        "    f.write('\\n'.join(val_df.tokenized_products.values))\n",
        "\n",
        "with open(os.path.join(data_path, 'precursors-test.txt'), 'w') as f:\n",
        "    f.write('\\n'.join(test_df.tokenized_precursors.values))\n",
        "with open(os.path.join(data_path, 'products-test.txt'), 'w') as f:\n",
        "    f.write('\\n'.join(test_df.tokenized_products.values))"
      ]
    },
    {
      "cell_type": "markdown",
      "id": "3798bdbe-3ed0-4522-af00-f10f4e578269",
      "metadata": {
        "id": "3798bdbe-3ed0-4522-af00-f10f4e578269"
      },
      "source": [
        "# Building the vocab <a class=\"anchor\" id=\"fourth-bullet\"></a>\n",
        "\n",
        "The first step for the [OpenNMT-py pipeline](https://opennmt.net/OpenNMT-py/quickstart.html) is to build the vocabulary.\n",
        "\n",
        "![](https://camo.githubusercontent.com/69fb11841ce1abd51a3fd7f3ed4b424857029ce123521cc301eb48a1e22bee2f/687474703a2f2f6f70656e6e6d742e6769746875622e696f2f73696d706c652d6174746e2e706e67)\n",
        "</br><left>Figure 2: In contrast to a neural machine translation model for human language, we will use an atom-wise vocabulary.\n",
        "\n",
        "\n",
        "Please note:\n",
        "- Typical sequence pairs in machine translation are much shorter than the ones you encounter in chemical reaction prediction. Hence, set a `src_seq_length` and `tgt_seq_length` that is much higher than the maximum you would expect to include all reactions (in this case we set a value of 1000).\n",
        "- With `n_sample` set to `-1` we include the whole dataset.\n",
        "\n",
        "The paths to the training and validation datasets are defined in the `run_config.yaml`:\n",
        "\n",
        "```yaml\n",
        "# Here you can check the documentation to know better how this file works.\n",
        "# https://opennmt.net/OpenNMT-py/quickstart.html\n",
        "# Examples in https://github.com/OpenNMT/OpenNMT-py/tree/master/config\n",
        "\n",
        "## Where the samples will be written\n",
        "save_data: example_run\n",
        "## Where the vocab(s) will be written\n",
        "src_vocab: example_run/uspto.vocab.src\n",
        "tgt_vocab: example_run/uspto.vocab.src\n",
        "# Prevent overwriting existing files in the folder\n",
        "overwrite: true\n",
        "share_vocab: true\n",
        "\n",
        "# Corpus opts:\n",
        "data:\n",
        "    corpus-1:\n",
        "        path_src: USPTO_480k_preprocessed/precursors-train.txt\n",
        "        path_tgt: USPTO_480k_preprocessed/products-train.txt\n",
        "    valid:\n",
        "        path_src: USPTO_480k_preprocessed/precursors-val.txt\n",
        "        path_tgt: USPTO_480k_preprocessed/products-val.txt\n",
        "```\n",
        "\n",
        "As the source (precusors) and the target (products) are represented as SMILES and consist of the same tokens, we share the vocabulary between source and target (`share_vocab: true`)."
      ]
    },
    {
      "cell_type": "code",
      "execution_count": 7,
      "id": "3aeb29f1-fd45-4970-bd14-54d2648c7de1",
      "metadata": {
        "id": "3aeb29f1-fd45-4970-bd14-54d2648c7de1",
        "outputId": "8d9233ff-a1db-44f1-b242-e65448d35735",
        "colab": {
          "base_uri": "https://localhost:8080/"
        }
      },
      "outputs": [
        {
          "output_type": "stream",
          "name": "stderr",
          "text": [
            "Downloading...\n",
            "From: https://raw.githubusercontent.com/schwallergroup/dmds_language_models_for_reactions/main/example_run/run_config.yaml\n",
            "To: /content/example_run/run_config.yaml\n",
            "961B [00:00, 856kB/s]                    \n"
          ]
        }
      ],
      "source": [
        "config_url = 'https://raw.githubusercontent.com/schwallergroup/dmds_language_models_for_reactions/main/example_run/run_config.yaml'\n",
        "config_folder = 'example_run'\n",
        "config_name = 'run_config.yaml'\n",
        "\n",
        "os.makedirs(config_folder, exist_ok=True)\n",
        "target_path = os.path.join(config_folder, config_name)\n",
        "if not os.path.exists(target_path):\n",
        "    gdown.download(config_url, target_path, quiet=False)\n",
        "else:\n",
        "    print(f\"{target_path} already exists\")"
      ]
    },
    {
      "cell_type": "markdown",
      "id": "675243f6",
      "metadata": {
        "id": "675243f6"
      },
      "source": [
        "Now we can run this command to build our vocabulary file."
      ]
    },
    {
      "cell_type": "code",
      "execution_count": 8,
      "id": "036933c8-6af8-45c2-ae83-698901e99f3f",
      "metadata": {
        "id": "036933c8-6af8-45c2-ae83-698901e99f3f",
        "outputId": "746326fa-3d85-47fe-f540-cae717cd2dac",
        "colab": {
          "base_uri": "https://localhost:8080/"
        }
      },
      "outputs": [
        {
          "output_type": "stream",
          "name": "stdout",
          "text": [
            "/bin/bash: line 1: onmt_build_vocab: command not found\n"
          ]
        }
      ],
      "source": [
        "! onmt_build_vocab -config example_run/run_config.yaml \\\n",
        "    -src_seq_length 1000 -tgt_seq_length 1000 \\\n",
        "    -src_vocab_size 1000 -tgt_vocab_size 1000 \\\n",
        "    -n_sample -1"
      ]
    },
    {
      "cell_type": "markdown",
      "id": "9f097cdd",
      "metadata": {
        "id": "9f097cdd"
      },
      "source": [
        "You can check how the `uspto.vocab.src` in the `example_run` folder to see how the vocabulary looks like."
      ]
    },
    {
      "cell_type": "markdown",
      "id": "7869e844-0951-4fc4-9fad-a73796ce98e4",
      "metadata": {
        "id": "7869e844-0951-4fc4-9fad-a73796ce98e4"
      },
      "source": [
        "# Training the Molecular Transformer <a class=\"anchor\" id=\"fifth-bullet\"></a>\n",
        "\n",
        "If you look at the `run_config.yaml`, you will see that we have defined some of the training parameters (but not yet the hyperparameters of the model).\n",
        "\n",
        "```yaml\n",
        "# Train on a single GPU\n",
        "world_size: 1\n",
        "gpu_ranks: [0]\n",
        "\n",
        "# Where to save the checkpoints\n",
        "save_model: example_run/model\n",
        "save_checkpoint_steps: 5000\n",
        "keep_checkpoint: 3\n",
        "train_steps: 400000\n",
        "valid_steps: 10000\n",
        "report_every: 100\n",
        "\n",
        "tensorboard: true\n",
        "tensorboard_log_dir: log_dir\n",
        "```\n",
        "\n",
        "The Transformer architecture was published in the [Attention is all you need](https://proceedings.neurips.cc/paper/7181-attention-is-all-you-need) paper by Vaswani et al. (NeurIPS, 2017). The model sizes (65 to 212M parameters) in that paper were larger than what we use for reaction prediction (20M parameters).\n",
        "\n",
        "![](https://raw.githubusercontent.com/nlp-with-transformers/notebooks/main/images/chapter01_self-attention.png)\n",
        "</br><left>Figure 3: Transformer model (source: https://github.com/nlp-with-transformers). </left>\n",
        "\n",
        "Illustrated transformer blogposts:\n",
        "- https://nlp.seas.harvard.edu/2018/04/03/attention.html\n",
        "- https://jalammar.github.io/illustrated-transformer/"
      ]
    },
    {
      "cell_type": "markdown",
      "id": "5a3ffc8a",
      "metadata": {
        "id": "5a3ffc8a"
      },
      "source": [
        "The cell below contains the command used to train the model. Here you can set all your hyperparameters. In this case, we will use the values that were published in this [paper](https://www.nature.com/articles/s41467-020-18671-7), where the Molecular Transformer was trained to predict carbohydrate reactions."
      ]
    },
    {
      "cell_type": "code",
      "execution_count": 9,
      "id": "91629dc0-409f-4270-9286-1cd1c6bfd936",
      "metadata": {
        "id": "91629dc0-409f-4270-9286-1cd1c6bfd936",
        "outputId": "98e4a9d3-7d6e-4003-b01e-adb694c716bc",
        "colab": {
          "base_uri": "https://localhost:8080/"
        }
      },
      "outputs": [
        {
          "output_type": "stream",
          "name": "stdout",
          "text": [
            "/bin/bash: line 1: onmt_train: command not found\n"
          ]
        }
      ],
      "source": [
        "# hyperparameters from https://github.com/rxn4chemistry/OpenNMT-py/tree/carbohydrate_transformer\n",
        "!onmt_train -config example_run/run_config.yaml \\\n",
        "        -seed 42 -gpu_ranks 0  \\\n",
        "        -param_init 0 \\\n",
        "        -param_init_glorot -max_generator_batches 32 \\\n",
        "        -batch_type tokens -batch_size 6144\\\n",
        "        -normalization tokens -max_grad_norm 0  -accum_count 4 \\\n",
        "        -optim adam -adam_beta1 0.9 -adam_beta2 0.998 -decay_method noam  \\\n",
        "        -warmup_steps 8000 -learning_rate 2 -label_smoothing 0.0 \\\n",
        "        -layers 4 -rnn_size  384 -word_vec_size 384 \\\n",
        "        -encoder_type transformer -decoder_type transformer \\\n",
        "        -dropout 0.1 -position_encoding -share_embeddings  \\\n",
        "        -global_attention general -global_attention_function softmax \\\n",
        "        -self_attn_type scaled-dot -heads 8 -transformer_ff 2048 \\\n",
        "        -tensorboard True -tensorboard_log_dir log_dir"
      ]
    },
    {
      "cell_type": "markdown",
      "id": "ade2ad81-dff7-43bf-ade7-c2e07d708845",
      "metadata": {
        "id": "ade2ad81-dff7-43bf-ade7-c2e07d708845"
      },
      "source": [
        "The training can take more than `24 hours` on a single GPU! Hence, stop the previous cell, we will directly download the trained model :)"
      ]
    },
    {
      "cell_type": "code",
      "execution_count": 10,
      "id": "2301f375-31b3-4887-a7bc-1df88742be31",
      "metadata": {
        "id": "2301f375-31b3-4887-a7bc-1df88742be31",
        "outputId": "a3bd2ff6-60f1-481b-a2d8-15ff6aaddd4d",
        "colab": {
          "base_uri": "https://localhost:8080/"
        }
      },
      "outputs": [
        {
          "output_type": "stream",
          "name": "stderr",
          "text": [
            "Downloading...\n",
            "From (original): https://drive.google.com/uc?id=1ywJCJHunoPTB5wr6KdZ8aLv7tMFMBHNy\n",
            "From (redirected): https://drive.google.com/uc?id=1ywJCJHunoPTB5wr6KdZ8aLv7tMFMBHNy&confirm=t&uuid=5b766f81-74aa-446d-983f-35b922f33304\n",
            "To: /content/models/USPTO480k_model_step_400000.pt\n",
            "100%|██████████| 95.2M/95.2M [00:00<00:00, 152MB/s]\n"
          ]
        }
      ],
      "source": [
        "trained_model_url = 'https://drive.google.com/uc?id=1ywJCJHunoPTB5wr6KdZ8aLv7tMFMBHNy'\n",
        "model_folder = 'models'\n",
        "model_name = 'USPTO480k_model_step_400000.pt'\n",
        "\n",
        "os.makedirs(model_folder, exist_ok=True)\n",
        "target_path = os.path.join(model_folder, model_name)\n",
        "if not os.path.exists(target_path):\n",
        "    gdown.download(trained_model_url, target_path, quiet=False)\n",
        "else:\n",
        "    print(f\"{target_path} already exists\")"
      ]
    },
    {
      "cell_type": "markdown",
      "id": "699d8423-883e-4b12-bd77-07cc7a8e501c",
      "metadata": {
        "id": "699d8423-883e-4b12-bd77-07cc7a8e501c"
      },
      "source": [
        "# Evaluating the model\n",
        "\n",
        "We'll use a pre-made script for this, don't worry about it now. Basically we want to check what percentage of the predictions are correct (we compute the accuracy of the model). *This cell takes around 20 minutes to execute, as we are using the model to predict nearly 40k reactions*"
      ]
    },
    {
      "cell_type": "code",
      "execution_count": 11,
      "id": "cde99d02-d4f2-4173-ad18-8d76f1effbf5",
      "metadata": {
        "id": "cde99d02-d4f2-4173-ad18-8d76f1effbf5",
        "outputId": "da346977-0a68-4e09-84e0-1fd0f4b5381c",
        "colab": {
          "base_uri": "https://localhost:8080/"
        }
      },
      "outputs": [
        {
          "output_type": "stream",
          "name": "stdout",
          "text": [
            "/bin/bash: line 1: onmt_translate: command not found\n"
          ]
        }
      ],
      "source": [
        "!onmt_translate -model models/USPTO480k_model_step_400000.pt -gpu 0 \\\n",
        "    --src USPTO_480k_preprocessed/precursors-val.txt \\\n",
        "    --tgt USPTO_480k_preprocessed/products-val.txt \\\n",
        "    --output models/USPTO480k_model_step_400000_val_predictions.txt \\\n",
        "    --n_best 5 --beam_size 10 --max_length 300 --batch_size 64"
      ]
    },
    {
      "cell_type": "markdown",
      "id": "a1b7c2a2",
      "metadata": {
        "id": "a1b7c2a2"
      },
      "source": [
        "For each reaction, we obtain 5 predictions that can be used to compute the accuracy. The `top-n` accuracy is the accuracy that includes the best n predictions (for example, top-3 accuracy will consider one prediction as true if the true product matches any of the best 3 predictions). Now run this to compute the accuracy of the model. What do these numbers tell you?"
      ]
    },
    {
      "cell_type": "code",
      "execution_count": 11,
      "id": "04537213-80e8-4a4d-95a2-9a02cb8acfb7",
      "metadata": {
        "id": "04537213-80e8-4a4d-95a2-9a02cb8acfb7",
        "outputId": "fff21198-ded6-4b0b-f8d5-35d0e08b16be",
        "colab": {
          "base_uri": "https://localhost:8080/",
          "height": 295
        }
      },
      "outputs": [
        {
          "output_type": "error",
          "ename": "FileNotFoundError",
          "evalue": "[Errno 2] No such file or directory: 'models/USPTO480k_model_step_400000_val_predictions.txt'",
          "traceback": [
            "\u001b[0;31m---------------------------------------------------------------------------\u001b[0m",
            "\u001b[0;31mFileNotFoundError\u001b[0m                         Traceback (most recent call last)",
            "\u001b[0;32m<ipython-input-11-361bb4bbcb98>\u001b[0m in \u001b[0;36m<cell line: 1>\u001b[0;34m()\u001b[0m\n\u001b[0;32m----> 1\u001b[0;31m \u001b[0mevaluate\u001b[0m\u001b[0;34m(\u001b[0m\u001b[0mn_best\u001b[0m\u001b[0;34m=\u001b[0m\u001b[0;36m5\u001b[0m\u001b[0;34m)\u001b[0m\u001b[0;34m\u001b[0m\u001b[0;34m\u001b[0m\u001b[0m\n\u001b[0m",
            "\u001b[0;32m/content/utils.py\u001b[0m in \u001b[0;36mevaluate\u001b[0;34m(n_best)\u001b[0m\n\u001b[1;32m     99\u001b[0m \u001b[0;32mdef\u001b[0m \u001b[0mevaluate\u001b[0m\u001b[0;34m(\u001b[0m\u001b[0mn_best\u001b[0m\u001b[0;34m)\u001b[0m\u001b[0;34m:\u001b[0m\u001b[0;34m\u001b[0m\u001b[0;34m\u001b[0m\u001b[0m\n\u001b[1;32m    100\u001b[0m \u001b[0;34m\u001b[0m\u001b[0m\n\u001b[0;32m--> 101\u001b[0;31m     \u001b[0mevaluation_df\u001b[0m \u001b[0;34m=\u001b[0m \u001b[0mget_eval_df\u001b[0m\u001b[0;34m(\u001b[0m\u001b[0;34m)\u001b[0m\u001b[0;34m\u001b[0m\u001b[0;34m\u001b[0m\u001b[0m\n\u001b[0m\u001b[1;32m    102\u001b[0m     \u001b[0mtotal\u001b[0m \u001b[0;34m=\u001b[0m \u001b[0mevaluation_df\u001b[0m\u001b[0;34m.\u001b[0m\u001b[0mshape\u001b[0m\u001b[0;34m[\u001b[0m\u001b[0;36m0\u001b[0m\u001b[0;34m]\u001b[0m\u001b[0;34m\u001b[0m\u001b[0;34m\u001b[0m\u001b[0m\n\u001b[1;32m    103\u001b[0m     \u001b[0mevaluation_df\u001b[0m\u001b[0;34m[\u001b[0m\u001b[0;34m'prediction_rank'\u001b[0m\u001b[0;34m]\u001b[0m \u001b[0;34m=\u001b[0m \u001b[0mevaluation_df\u001b[0m\u001b[0;34m.\u001b[0m\u001b[0mprogress_apply\u001b[0m\u001b[0;34m(\u001b[0m\u001b[0;32mlambda\u001b[0m \u001b[0mrow\u001b[0m\u001b[0;34m:\u001b[0m \u001b[0mget_prediction_rank\u001b[0m\u001b[0;34m(\u001b[0m\u001b[0mrow\u001b[0m\u001b[0;34m,\u001b[0m \u001b[0;34m'canonical_prediction_'\u001b[0m\u001b[0;34m,\u001b[0m \u001b[0mn_best\u001b[0m\u001b[0;34m)\u001b[0m\u001b[0;34m,\u001b[0m \u001b[0maxis\u001b[0m\u001b[0;34m=\u001b[0m\u001b[0;36m1\u001b[0m\u001b[0;34m)\u001b[0m\u001b[0;34m\u001b[0m\u001b[0;34m\u001b[0m\u001b[0m\n",
            "\u001b[0;32m/content/utils.py\u001b[0m in \u001b[0;36mget_eval_df\u001b[0;34m()\u001b[0m\n\u001b[1;32m     79\u001b[0m     \u001b[0mtotal\u001b[0m \u001b[0;34m=\u001b[0m \u001b[0mlen\u001b[0m\u001b[0;34m(\u001b[0m\u001b[0mevaluation_df\u001b[0m\u001b[0;34m)\u001b[0m\u001b[0;34m\u001b[0m\u001b[0;34m\u001b[0m\u001b[0m\n\u001b[1;32m     80\u001b[0m \u001b[0;34m\u001b[0m\u001b[0m\n\u001b[0;32m---> 81\u001b[0;31m     \u001b[0;32mwith\u001b[0m \u001b[0mopen\u001b[0m\u001b[0;34m(\u001b[0m\u001b[0;34m'models/USPTO480k_model_step_400000_val_predictions.txt'\u001b[0m\u001b[0;34m,\u001b[0m \u001b[0;34m'r'\u001b[0m\u001b[0;34m)\u001b[0m \u001b[0;32mas\u001b[0m \u001b[0mf\u001b[0m\u001b[0;34m:\u001b[0m\u001b[0;34m\u001b[0m\u001b[0;34m\u001b[0m\u001b[0m\n\u001b[0m\u001b[1;32m     82\u001b[0m \u001b[0;34m\u001b[0m\u001b[0m\n\u001b[1;32m     83\u001b[0m         \u001b[0;32mfor\u001b[0m \u001b[0mi\u001b[0m\u001b[0;34m,\u001b[0m \u001b[0mline\u001b[0m \u001b[0;32min\u001b[0m \u001b[0menumerate\u001b[0m\u001b[0;34m(\u001b[0m\u001b[0mf\u001b[0m\u001b[0;34m)\u001b[0m\u001b[0;34m:\u001b[0m\u001b[0;34m\u001b[0m\u001b[0;34m\u001b[0m\u001b[0m\n",
            "\u001b[0;31mFileNotFoundError\u001b[0m: [Errno 2] No such file or directory: 'models/USPTO480k_model_step_400000_val_predictions.txt'"
          ]
        }
      ],
      "source": [
        "evaluate(n_best=5)"
      ]
    },
    {
      "cell_type": "markdown",
      "id": "ef64963c-711d-4003-beb4-60b3ce9dc64d",
      "metadata": {
        "id": "ef64963c-711d-4003-beb4-60b3ce9dc64d"
      },
      "source": [
        "## Exercise: Test the limits of the Molecular Transformer!"
      ]
    },
    {
      "cell_type": "markdown",
      "id": "67385cb0",
      "metadata": {
        "id": "67385cb0"
      },
      "source": [
        "Now it's your turn! Try to make some predictions using the Molecular Transformer and check its limitations. You can try to explore reactions with challenging stereochemistry or regioselectivity, and see if the model is able to correctly get them."
      ]
    },
    {
      "cell_type": "code",
      "execution_count": 12,
      "id": "257c15b7-e4dd-45a2-875a-02b3ac27d985",
      "metadata": {
        "id": "257c15b7-e4dd-45a2-875a-02b3ac27d985",
        "outputId": "b27ad2a4-35d0-410a-9dc7-ae80fe5ef457",
        "colab": {
          "base_uri": "https://localhost:8080/",
          "height": 307
        }
      },
      "outputs": [
        {
          "output_type": "error",
          "ename": "FileNotFoundError",
          "evalue": "[Errno 2] No such file or directory: 'preds.txt'",
          "traceback": [
            "\u001b[0;31m---------------------------------------------------------------------------\u001b[0m",
            "\u001b[0;31mFileNotFoundError\u001b[0m                         Traceback (most recent call last)",
            "\u001b[0;32m<ipython-input-12-57720f24f305>\u001b[0m in \u001b[0;36m<cell line: 48>\u001b[0;34m()\u001b[0m\n\u001b[1;32m     46\u001b[0m ]\n\u001b[1;32m     47\u001b[0m \u001b[0;34m\u001b[0m\u001b[0m\n\u001b[0;32m---> 48\u001b[0;31m \u001b[0mpred_smi\u001b[0m \u001b[0;34m=\u001b[0m \u001b[0mpredict_reaction\u001b[0m\u001b[0;34m(\u001b[0m\u001b[0mprecursors_smis\u001b[0m\u001b[0;34m)\u001b[0m\u001b[0;34m\u001b[0m\u001b[0;34m\u001b[0m\u001b[0m\n\u001b[0m",
            "\u001b[0;32m<ipython-input-12-57720f24f305>\u001b[0m in \u001b[0;36mpredict_reaction\u001b[0;34m(precursors)\u001b[0m\n\u001b[1;32m     22\u001b[0m                --n_best 1 --beam_size 5 --max_length 300 --batch_size 64\")\n\u001b[1;32m     23\u001b[0m \u001b[0;34m\u001b[0m\u001b[0m\n\u001b[0;32m---> 24\u001b[0;31m     \u001b[0;32mwith\u001b[0m \u001b[0mopen\u001b[0m\u001b[0;34m(\u001b[0m\u001b[0;34m'preds.txt'\u001b[0m\u001b[0;34m,\u001b[0m \u001b[0;34m'r'\u001b[0m\u001b[0;34m)\u001b[0m \u001b[0;32mas\u001b[0m \u001b[0mf\u001b[0m\u001b[0;34m:\u001b[0m\u001b[0;34m\u001b[0m\u001b[0;34m\u001b[0m\u001b[0m\n\u001b[0m\u001b[1;32m     25\u001b[0m         \u001b[0mpred_smi\u001b[0m \u001b[0;34m=\u001b[0m \u001b[0mf\u001b[0m\u001b[0;34m.\u001b[0m\u001b[0mreadline\u001b[0m\u001b[0;34m(\u001b[0m\u001b[0;34m)\u001b[0m\u001b[0;34m.\u001b[0m\u001b[0mstrip\u001b[0m\u001b[0;34m(\u001b[0m\u001b[0;34m)\u001b[0m\u001b[0;34m\u001b[0m\u001b[0;34m\u001b[0m\u001b[0m\n\u001b[1;32m     26\u001b[0m         \u001b[0mpred_smi\u001b[0m \u001b[0;34m=\u001b[0m \u001b[0mpred_smi\u001b[0m\u001b[0;34m.\u001b[0m\u001b[0mreplace\u001b[0m\u001b[0;34m(\u001b[0m\u001b[0;34m\" \"\u001b[0m\u001b[0;34m,\u001b[0m \u001b[0;34m\"\"\u001b[0m\u001b[0;34m)\u001b[0m\u001b[0;34m\u001b[0m\u001b[0;34m\u001b[0m\u001b[0m\n",
            "\u001b[0;31mFileNotFoundError\u001b[0m: [Errno 2] No such file or directory: 'preds.txt'"
          ]
        }
      ],
      "source": [
        "# It's an example\n",
        "\n",
        "from rdkit import Chem\n",
        "from rdkit.Chem import Draw\n",
        "from rdkit.Chem.Draw import IPythonConsole\n",
        "from IPython.display import display\n",
        "\n",
        "\n",
        "def predict_reaction(precursors):\n",
        "    \"\"\" predict product of one reaction from its precursors SMILES list\n",
        "    \"\"\"\n",
        "\n",
        "    smi_pres = '.'.join(precursors)\n",
        "    smi_pres = smiles_tokenizer(smi_pres)\n",
        "\n",
        "    with open('precursors-try.txt', 'w') as f:\n",
        "        f.write(f'{smi_pres}\\n')\n",
        "\n",
        "    os.system(\"rm preds.txt\")\n",
        "    os.system(\"onmt_translate -model models/USPTO480k_model_step_400000.pt -gpu 0 \\\n",
        "               --src precursors-try.txt --output preds.txt \\\n",
        "               --n_best 1 --beam_size 5 --max_length 300 --batch_size 64\")\n",
        "\n",
        "    with open('preds.txt', 'r') as f:\n",
        "        pred_smi = f.readline().strip()\n",
        "        pred_smi = pred_smi.replace(\" \", \"\")\n",
        "\n",
        "    # print result\n",
        "    print(f\"The SMILES of the predicted product is: {pred_smi}\")\n",
        "    # Use RDKit to visualize the reactants and product\n",
        "    # precursors\n",
        "    print(\"\\n\\nVisualization of the reaction:\\n\")\n",
        "    print(\"Precursors:\")\n",
        "    precursors_mols = [Chem.MolFromSmiles(smi) for smi in precursors]\n",
        "    [display(mol) for mol in precursors_mols]\n",
        "    print(\"Product:\")\n",
        "    product_mol = Chem.MolFromSmiles(pred_smi)\n",
        "    display(product_mol)\n",
        "\n",
        "    return pred_smi\n",
        "\n",
        "# Write the SMILES of all precursors for a reaction you want to predict into a list\n",
        "precursors_smis = [\n",
        "    \"COC(=O)c1cc2c3cccc(Cl)c3n(C)c2s1\",\n",
        "    \"[K+].[OH-]\",\n",
        "]\n",
        "\n",
        "pred_smi = predict_reaction(precursors_smis)"
      ]
    },
    {
      "cell_type": "code",
      "source": [],
      "metadata": {
        "id": "inlzIp1jVZ0o"
      },
      "id": "inlzIp1jVZ0o",
      "execution_count": null,
      "outputs": []
    }
  ],
  "metadata": {
    "kernelspec": {
      "display_name": "Python 3",
      "name": "python3"
    },
    "language_info": {
      "codemirror_mode": {
        "name": "ipython",
        "version": 3
      },
      "file_extension": ".py",
      "mimetype": "text/x-python",
      "name": "python",
      "nbconvert_exporter": "python",
      "pygments_lexer": "ipython3",
      "version": "3.9.12"
    },
    "vscode": {
      "interpreter": {
        "hash": "1be16fbddf550357e4e46540ee01bc6d12a48d7bc56fc8427cd30121d5943dc8"
      }
    },
    "colab": {
      "provenance": [],
      "gpuType": "T4"
    },
    "accelerator": "GPU",
    "widgets": {
      "application/vnd.jupyter.widget-state+json": {
        "4b3020bafbf84155862b4100ec114cac": {
          "model_module": "@jupyter-widgets/controls",
          "model_name": "HBoxModel",
          "model_module_version": "1.5.0",
          "state": {
            "_dom_classes": [],
            "_model_module": "@jupyter-widgets/controls",
            "_model_module_version": "1.5.0",
            "_model_name": "HBoxModel",
            "_view_count": null,
            "_view_module": "@jupyter-widgets/controls",
            "_view_module_version": "1.5.0",
            "_view_name": "HBoxView",
            "box_style": "",
            "children": [
              "IPY_MODEL_efb248584d9e4cd9971df201c33671f8",
              "IPY_MODEL_993ad52e9f4d48e8872f877f5742f5a7",
              "IPY_MODEL_dc514077ca5d4bc2ae46eaef3daf5406"
            ],
            "layout": "IPY_MODEL_5a73379e63bb4fc58cf648ca02112ce7"
          }
        },
        "efb248584d9e4cd9971df201c33671f8": {
          "model_module": "@jupyter-widgets/controls",
          "model_name": "HTMLModel",
          "model_module_version": "1.5.0",
          "state": {
            "_dom_classes": [],
            "_model_module": "@jupyter-widgets/controls",
            "_model_module_version": "1.5.0",
            "_model_name": "HTMLModel",
            "_view_count": null,
            "_view_module": "@jupyter-widgets/controls",
            "_view_module_version": "1.5.0",
            "_view_name": "HTMLView",
            "description": "",
            "description_tooltip": null,
            "layout": "IPY_MODEL_b4b25979f9274ad49fa5dbde7f359736",
            "placeholder": "​",
            "style": "IPY_MODEL_f754c55014df4873843a3acbc37e350a",
            "value": "100%"
          }
        },
        "993ad52e9f4d48e8872f877f5742f5a7": {
          "model_module": "@jupyter-widgets/controls",
          "model_name": "FloatProgressModel",
          "model_module_version": "1.5.0",
          "state": {
            "_dom_classes": [],
            "_model_module": "@jupyter-widgets/controls",
            "_model_module_version": "1.5.0",
            "_model_name": "FloatProgressModel",
            "_view_count": null,
            "_view_module": "@jupyter-widgets/controls",
            "_view_module_version": "1.5.0",
            "_view_name": "ProgressView",
            "bar_style": "success",
            "description": "",
            "description_tooltip": null,
            "layout": "IPY_MODEL_eacfdd081a8e40d5a02db27b533ba01d",
            "max": 409035,
            "min": 0,
            "orientation": "horizontal",
            "style": "IPY_MODEL_a26f098663614535b09ecce226e04df7",
            "value": 409035
          }
        },
        "dc514077ca5d4bc2ae46eaef3daf5406": {
          "model_module": "@jupyter-widgets/controls",
          "model_name": "HTMLModel",
          "model_module_version": "1.5.0",
          "state": {
            "_dom_classes": [],
            "_model_module": "@jupyter-widgets/controls",
            "_model_module_version": "1.5.0",
            "_model_name": "HTMLModel",
            "_view_count": null,
            "_view_module": "@jupyter-widgets/controls",
            "_view_module_version": "1.5.0",
            "_view_name": "HTMLView",
            "description": "",
            "description_tooltip": null,
            "layout": "IPY_MODEL_014f8d47f35b43e0977bd6528cea998c",
            "placeholder": "​",
            "style": "IPY_MODEL_e9fdcaf3a57340e595fc616fde1f26d8",
            "value": " 409035/409035 [00:08&lt;00:00, 45178.84it/s]"
          }
        },
        "5a73379e63bb4fc58cf648ca02112ce7": {
          "model_module": "@jupyter-widgets/base",
          "model_name": "LayoutModel",
          "model_module_version": "1.2.0",
          "state": {
            "_model_module": "@jupyter-widgets/base",
            "_model_module_version": "1.2.0",
            "_model_name": "LayoutModel",
            "_view_count": null,
            "_view_module": "@jupyter-widgets/base",
            "_view_module_version": "1.2.0",
            "_view_name": "LayoutView",
            "align_content": null,
            "align_items": null,
            "align_self": null,
            "border": null,
            "bottom": null,
            "display": null,
            "flex": null,
            "flex_flow": null,
            "grid_area": null,
            "grid_auto_columns": null,
            "grid_auto_flow": null,
            "grid_auto_rows": null,
            "grid_column": null,
            "grid_gap": null,
            "grid_row": null,
            "grid_template_areas": null,
            "grid_template_columns": null,
            "grid_template_rows": null,
            "height": null,
            "justify_content": null,
            "justify_items": null,
            "left": null,
            "margin": null,
            "max_height": null,
            "max_width": null,
            "min_height": null,
            "min_width": null,
            "object_fit": null,
            "object_position": null,
            "order": null,
            "overflow": null,
            "overflow_x": null,
            "overflow_y": null,
            "padding": null,
            "right": null,
            "top": null,
            "visibility": null,
            "width": null
          }
        },
        "b4b25979f9274ad49fa5dbde7f359736": {
          "model_module": "@jupyter-widgets/base",
          "model_name": "LayoutModel",
          "model_module_version": "1.2.0",
          "state": {
            "_model_module": "@jupyter-widgets/base",
            "_model_module_version": "1.2.0",
            "_model_name": "LayoutModel",
            "_view_count": null,
            "_view_module": "@jupyter-widgets/base",
            "_view_module_version": "1.2.0",
            "_view_name": "LayoutView",
            "align_content": null,
            "align_items": null,
            "align_self": null,
            "border": null,
            "bottom": null,
            "display": null,
            "flex": null,
            "flex_flow": null,
            "grid_area": null,
            "grid_auto_columns": null,
            "grid_auto_flow": null,
            "grid_auto_rows": null,
            "grid_column": null,
            "grid_gap": null,
            "grid_row": null,
            "grid_template_areas": null,
            "grid_template_columns": null,
            "grid_template_rows": null,
            "height": null,
            "justify_content": null,
            "justify_items": null,
            "left": null,
            "margin": null,
            "max_height": null,
            "max_width": null,
            "min_height": null,
            "min_width": null,
            "object_fit": null,
            "object_position": null,
            "order": null,
            "overflow": null,
            "overflow_x": null,
            "overflow_y": null,
            "padding": null,
            "right": null,
            "top": null,
            "visibility": null,
            "width": null
          }
        },
        "f754c55014df4873843a3acbc37e350a": {
          "model_module": "@jupyter-widgets/controls",
          "model_name": "DescriptionStyleModel",
          "model_module_version": "1.5.0",
          "state": {
            "_model_module": "@jupyter-widgets/controls",
            "_model_module_version": "1.5.0",
            "_model_name": "DescriptionStyleModel",
            "_view_count": null,
            "_view_module": "@jupyter-widgets/base",
            "_view_module_version": "1.2.0",
            "_view_name": "StyleView",
            "description_width": ""
          }
        },
        "eacfdd081a8e40d5a02db27b533ba01d": {
          "model_module": "@jupyter-widgets/base",
          "model_name": "LayoutModel",
          "model_module_version": "1.2.0",
          "state": {
            "_model_module": "@jupyter-widgets/base",
            "_model_module_version": "1.2.0",
            "_model_name": "LayoutModel",
            "_view_count": null,
            "_view_module": "@jupyter-widgets/base",
            "_view_module_version": "1.2.0",
            "_view_name": "LayoutView",
            "align_content": null,
            "align_items": null,
            "align_self": null,
            "border": null,
            "bottom": null,
            "display": null,
            "flex": null,
            "flex_flow": null,
            "grid_area": null,
            "grid_auto_columns": null,
            "grid_auto_flow": null,
            "grid_auto_rows": null,
            "grid_column": null,
            "grid_gap": null,
            "grid_row": null,
            "grid_template_areas": null,
            "grid_template_columns": null,
            "grid_template_rows": null,
            "height": null,
            "justify_content": null,
            "justify_items": null,
            "left": null,
            "margin": null,
            "max_height": null,
            "max_width": null,
            "min_height": null,
            "min_width": null,
            "object_fit": null,
            "object_position": null,
            "order": null,
            "overflow": null,
            "overflow_x": null,
            "overflow_y": null,
            "padding": null,
            "right": null,
            "top": null,
            "visibility": null,
            "width": null
          }
        },
        "a26f098663614535b09ecce226e04df7": {
          "model_module": "@jupyter-widgets/controls",
          "model_name": "ProgressStyleModel",
          "model_module_version": "1.5.0",
          "state": {
            "_model_module": "@jupyter-widgets/controls",
            "_model_module_version": "1.5.0",
            "_model_name": "ProgressStyleModel",
            "_view_count": null,
            "_view_module": "@jupyter-widgets/base",
            "_view_module_version": "1.2.0",
            "_view_name": "StyleView",
            "bar_color": null,
            "description_width": ""
          }
        },
        "014f8d47f35b43e0977bd6528cea998c": {
          "model_module": "@jupyter-widgets/base",
          "model_name": "LayoutModel",
          "model_module_version": "1.2.0",
          "state": {
            "_model_module": "@jupyter-widgets/base",
            "_model_module_version": "1.2.0",
            "_model_name": "LayoutModel",
            "_view_count": null,
            "_view_module": "@jupyter-widgets/base",
            "_view_module_version": "1.2.0",
            "_view_name": "LayoutView",
            "align_content": null,
            "align_items": null,
            "align_self": null,
            "border": null,
            "bottom": null,
            "display": null,
            "flex": null,
            "flex_flow": null,
            "grid_area": null,
            "grid_auto_columns": null,
            "grid_auto_flow": null,
            "grid_auto_rows": null,
            "grid_column": null,
            "grid_gap": null,
            "grid_row": null,
            "grid_template_areas": null,
            "grid_template_columns": null,
            "grid_template_rows": null,
            "height": null,
            "justify_content": null,
            "justify_items": null,
            "left": null,
            "margin": null,
            "max_height": null,
            "max_width": null,
            "min_height": null,
            "min_width": null,
            "object_fit": null,
            "object_position": null,
            "order": null,
            "overflow": null,
            "overflow_x": null,
            "overflow_y": null,
            "padding": null,
            "right": null,
            "top": null,
            "visibility": null,
            "width": null
          }
        },
        "e9fdcaf3a57340e595fc616fde1f26d8": {
          "model_module": "@jupyter-widgets/controls",
          "model_name": "DescriptionStyleModel",
          "model_module_version": "1.5.0",
          "state": {
            "_model_module": "@jupyter-widgets/controls",
            "_model_module_version": "1.5.0",
            "_model_name": "DescriptionStyleModel",
            "_view_count": null,
            "_view_module": "@jupyter-widgets/base",
            "_view_module_version": "1.2.0",
            "_view_name": "StyleView",
            "description_width": ""
          }
        },
        "5ef472c4b65c4672904250fd9bef8a47": {
          "model_module": "@jupyter-widgets/controls",
          "model_name": "HBoxModel",
          "model_module_version": "1.5.0",
          "state": {
            "_dom_classes": [],
            "_model_module": "@jupyter-widgets/controls",
            "_model_module_version": "1.5.0",
            "_model_name": "HBoxModel",
            "_view_count": null,
            "_view_module": "@jupyter-widgets/controls",
            "_view_module_version": "1.5.0",
            "_view_name": "HBoxView",
            "box_style": "",
            "children": [
              "IPY_MODEL_e12e41a7422946e18b922663f8cd1b11",
              "IPY_MODEL_d6e03682ca5b444c8c871831101296e8",
              "IPY_MODEL_9dff69265d1c4469848ba8c1345d318b"
            ],
            "layout": "IPY_MODEL_82969e842e6d4d0fb2c6cd4056321e55"
          }
        },
        "e12e41a7422946e18b922663f8cd1b11": {
          "model_module": "@jupyter-widgets/controls",
          "model_name": "HTMLModel",
          "model_module_version": "1.5.0",
          "state": {
            "_dom_classes": [],
            "_model_module": "@jupyter-widgets/controls",
            "_model_module_version": "1.5.0",
            "_model_name": "HTMLModel",
            "_view_count": null,
            "_view_module": "@jupyter-widgets/controls",
            "_view_module_version": "1.5.0",
            "_view_name": "HTMLView",
            "description": "",
            "description_tooltip": null,
            "layout": "IPY_MODEL_1d0a4e1c58b548f7ba5fa08aaa831e87",
            "placeholder": "​",
            "style": "IPY_MODEL_dd41a2dda59d4e9cb361d0c74bc111c8",
            "value": "100%"
          }
        },
        "d6e03682ca5b444c8c871831101296e8": {
          "model_module": "@jupyter-widgets/controls",
          "model_name": "FloatProgressModel",
          "model_module_version": "1.5.0",
          "state": {
            "_dom_classes": [],
            "_model_module": "@jupyter-widgets/controls",
            "_model_module_version": "1.5.0",
            "_model_name": "FloatProgressModel",
            "_view_count": null,
            "_view_module": "@jupyter-widgets/controls",
            "_view_module_version": "1.5.0",
            "_view_name": "ProgressView",
            "bar_style": "success",
            "description": "",
            "description_tooltip": null,
            "layout": "IPY_MODEL_147dc31c2d1044e6b79bbc2ce07058ca",
            "max": 409035,
            "min": 0,
            "orientation": "horizontal",
            "style": "IPY_MODEL_848d78ae856c425094e8f7fef6c633c2",
            "value": 409035
          }
        },
        "9dff69265d1c4469848ba8c1345d318b": {
          "model_module": "@jupyter-widgets/controls",
          "model_name": "HTMLModel",
          "model_module_version": "1.5.0",
          "state": {
            "_dom_classes": [],
            "_model_module": "@jupyter-widgets/controls",
            "_model_module_version": "1.5.0",
            "_model_name": "HTMLModel",
            "_view_count": null,
            "_view_module": "@jupyter-widgets/controls",
            "_view_module_version": "1.5.0",
            "_view_name": "HTMLView",
            "description": "",
            "description_tooltip": null,
            "layout": "IPY_MODEL_fc36746ef4f74ab28c97bee789326e74",
            "placeholder": "​",
            "style": "IPY_MODEL_f35508dacad94b4f8d3c4a9e98524ca9",
            "value": " 409035/409035 [00:07&lt;00:00, 66689.51it/s]"
          }
        },
        "82969e842e6d4d0fb2c6cd4056321e55": {
          "model_module": "@jupyter-widgets/base",
          "model_name": "LayoutModel",
          "model_module_version": "1.2.0",
          "state": {
            "_model_module": "@jupyter-widgets/base",
            "_model_module_version": "1.2.0",
            "_model_name": "LayoutModel",
            "_view_count": null,
            "_view_module": "@jupyter-widgets/base",
            "_view_module_version": "1.2.0",
            "_view_name": "LayoutView",
            "align_content": null,
            "align_items": null,
            "align_self": null,
            "border": null,
            "bottom": null,
            "display": null,
            "flex": null,
            "flex_flow": null,
            "grid_area": null,
            "grid_auto_columns": null,
            "grid_auto_flow": null,
            "grid_auto_rows": null,
            "grid_column": null,
            "grid_gap": null,
            "grid_row": null,
            "grid_template_areas": null,
            "grid_template_columns": null,
            "grid_template_rows": null,
            "height": null,
            "justify_content": null,
            "justify_items": null,
            "left": null,
            "margin": null,
            "max_height": null,
            "max_width": null,
            "min_height": null,
            "min_width": null,
            "object_fit": null,
            "object_position": null,
            "order": null,
            "overflow": null,
            "overflow_x": null,
            "overflow_y": null,
            "padding": null,
            "right": null,
            "top": null,
            "visibility": null,
            "width": null
          }
        },
        "1d0a4e1c58b548f7ba5fa08aaa831e87": {
          "model_module": "@jupyter-widgets/base",
          "model_name": "LayoutModel",
          "model_module_version": "1.2.0",
          "state": {
            "_model_module": "@jupyter-widgets/base",
            "_model_module_version": "1.2.0",
            "_model_name": "LayoutModel",
            "_view_count": null,
            "_view_module": "@jupyter-widgets/base",
            "_view_module_version": "1.2.0",
            "_view_name": "LayoutView",
            "align_content": null,
            "align_items": null,
            "align_self": null,
            "border": null,
            "bottom": null,
            "display": null,
            "flex": null,
            "flex_flow": null,
            "grid_area": null,
            "grid_auto_columns": null,
            "grid_auto_flow": null,
            "grid_auto_rows": null,
            "grid_column": null,
            "grid_gap": null,
            "grid_row": null,
            "grid_template_areas": null,
            "grid_template_columns": null,
            "grid_template_rows": null,
            "height": null,
            "justify_content": null,
            "justify_items": null,
            "left": null,
            "margin": null,
            "max_height": null,
            "max_width": null,
            "min_height": null,
            "min_width": null,
            "object_fit": null,
            "object_position": null,
            "order": null,
            "overflow": null,
            "overflow_x": null,
            "overflow_y": null,
            "padding": null,
            "right": null,
            "top": null,
            "visibility": null,
            "width": null
          }
        },
        "dd41a2dda59d4e9cb361d0c74bc111c8": {
          "model_module": "@jupyter-widgets/controls",
          "model_name": "DescriptionStyleModel",
          "model_module_version": "1.5.0",
          "state": {
            "_model_module": "@jupyter-widgets/controls",
            "_model_module_version": "1.5.0",
            "_model_name": "DescriptionStyleModel",
            "_view_count": null,
            "_view_module": "@jupyter-widgets/base",
            "_view_module_version": "1.2.0",
            "_view_name": "StyleView",
            "description_width": ""
          }
        },
        "147dc31c2d1044e6b79bbc2ce07058ca": {
          "model_module": "@jupyter-widgets/base",
          "model_name": "LayoutModel",
          "model_module_version": "1.2.0",
          "state": {
            "_model_module": "@jupyter-widgets/base",
            "_model_module_version": "1.2.0",
            "_model_name": "LayoutModel",
            "_view_count": null,
            "_view_module": "@jupyter-widgets/base",
            "_view_module_version": "1.2.0",
            "_view_name": "LayoutView",
            "align_content": null,
            "align_items": null,
            "align_self": null,
            "border": null,
            "bottom": null,
            "display": null,
            "flex": null,
            "flex_flow": null,
            "grid_area": null,
            "grid_auto_columns": null,
            "grid_auto_flow": null,
            "grid_auto_rows": null,
            "grid_column": null,
            "grid_gap": null,
            "grid_row": null,
            "grid_template_areas": null,
            "grid_template_columns": null,
            "grid_template_rows": null,
            "height": null,
            "justify_content": null,
            "justify_items": null,
            "left": null,
            "margin": null,
            "max_height": null,
            "max_width": null,
            "min_height": null,
            "min_width": null,
            "object_fit": null,
            "object_position": null,
            "order": null,
            "overflow": null,
            "overflow_x": null,
            "overflow_y": null,
            "padding": null,
            "right": null,
            "top": null,
            "visibility": null,
            "width": null
          }
        },
        "848d78ae856c425094e8f7fef6c633c2": {
          "model_module": "@jupyter-widgets/controls",
          "model_name": "ProgressStyleModel",
          "model_module_version": "1.5.0",
          "state": {
            "_model_module": "@jupyter-widgets/controls",
            "_model_module_version": "1.5.0",
            "_model_name": "ProgressStyleModel",
            "_view_count": null,
            "_view_module": "@jupyter-widgets/base",
            "_view_module_version": "1.2.0",
            "_view_name": "StyleView",
            "bar_color": null,
            "description_width": ""
          }
        },
        "fc36746ef4f74ab28c97bee789326e74": {
          "model_module": "@jupyter-widgets/base",
          "model_name": "LayoutModel",
          "model_module_version": "1.2.0",
          "state": {
            "_model_module": "@jupyter-widgets/base",
            "_model_module_version": "1.2.0",
            "_model_name": "LayoutModel",
            "_view_count": null,
            "_view_module": "@jupyter-widgets/base",
            "_view_module_version": "1.2.0",
            "_view_name": "LayoutView",
            "align_content": null,
            "align_items": null,
            "align_self": null,
            "border": null,
            "bottom": null,
            "display": null,
            "flex": null,
            "flex_flow": null,
            "grid_area": null,
            "grid_auto_columns": null,
            "grid_auto_flow": null,
            "grid_auto_rows": null,
            "grid_column": null,
            "grid_gap": null,
            "grid_row": null,
            "grid_template_areas": null,
            "grid_template_columns": null,
            "grid_template_rows": null,
            "height": null,
            "justify_content": null,
            "justify_items": null,
            "left": null,
            "margin": null,
            "max_height": null,
            "max_width": null,
            "min_height": null,
            "min_width": null,
            "object_fit": null,
            "object_position": null,
            "order": null,
            "overflow": null,
            "overflow_x": null,
            "overflow_y": null,
            "padding": null,
            "right": null,
            "top": null,
            "visibility": null,
            "width": null
          }
        },
        "f35508dacad94b4f8d3c4a9e98524ca9": {
          "model_module": "@jupyter-widgets/controls",
          "model_name": "DescriptionStyleModel",
          "model_module_version": "1.5.0",
          "state": {
            "_model_module": "@jupyter-widgets/controls",
            "_model_module_version": "1.5.0",
            "_model_name": "DescriptionStyleModel",
            "_view_count": null,
            "_view_module": "@jupyter-widgets/base",
            "_view_module_version": "1.2.0",
            "_view_name": "StyleView",
            "description_width": ""
          }
        },
        "2424debd972741c8a0db04804c835b16": {
          "model_module": "@jupyter-widgets/controls",
          "model_name": "HBoxModel",
          "model_module_version": "1.5.0",
          "state": {
            "_dom_classes": [],
            "_model_module": "@jupyter-widgets/controls",
            "_model_module_version": "1.5.0",
            "_model_name": "HBoxModel",
            "_view_count": null,
            "_view_module": "@jupyter-widgets/controls",
            "_view_module_version": "1.5.0",
            "_view_name": "HBoxView",
            "box_style": "",
            "children": [
              "IPY_MODEL_e8519f1709f8461a8a3804386faf54b7",
              "IPY_MODEL_a6ad7858302546c0a02140b174e4a180",
              "IPY_MODEL_939596fa84b344679f249064b8e4e5a6"
            ],
            "layout": "IPY_MODEL_7344bf8535fc40729fe1f82e1cdf725c"
          }
        },
        "e8519f1709f8461a8a3804386faf54b7": {
          "model_module": "@jupyter-widgets/controls",
          "model_name": "HTMLModel",
          "model_module_version": "1.5.0",
          "state": {
            "_dom_classes": [],
            "_model_module": "@jupyter-widgets/controls",
            "_model_module_version": "1.5.0",
            "_model_name": "HTMLModel",
            "_view_count": null,
            "_view_module": "@jupyter-widgets/controls",
            "_view_module_version": "1.5.0",
            "_view_name": "HTMLView",
            "description": "",
            "description_tooltip": null,
            "layout": "IPY_MODEL_20854a01c2f54497a8016bc220a27b55",
            "placeholder": "​",
            "style": "IPY_MODEL_423fe5358cd4420cba7368b4bfa30936",
            "value": "100%"
          }
        },
        "a6ad7858302546c0a02140b174e4a180": {
          "model_module": "@jupyter-widgets/controls",
          "model_name": "FloatProgressModel",
          "model_module_version": "1.5.0",
          "state": {
            "_dom_classes": [],
            "_model_module": "@jupyter-widgets/controls",
            "_model_module_version": "1.5.0",
            "_model_name": "FloatProgressModel",
            "_view_count": null,
            "_view_module": "@jupyter-widgets/controls",
            "_view_module_version": "1.5.0",
            "_view_name": "ProgressView",
            "bar_style": "success",
            "description": "",
            "description_tooltip": null,
            "layout": "IPY_MODEL_c4007364d708484ba06109ff5f0a173e",
            "max": 30000,
            "min": 0,
            "orientation": "horizontal",
            "style": "IPY_MODEL_d3e9a2978611474e931f1c8d5b300ace",
            "value": 30000
          }
        },
        "939596fa84b344679f249064b8e4e5a6": {
          "model_module": "@jupyter-widgets/controls",
          "model_name": "HTMLModel",
          "model_module_version": "1.5.0",
          "state": {
            "_dom_classes": [],
            "_model_module": "@jupyter-widgets/controls",
            "_model_module_version": "1.5.0",
            "_model_name": "HTMLModel",
            "_view_count": null,
            "_view_module": "@jupyter-widgets/controls",
            "_view_module_version": "1.5.0",
            "_view_name": "HTMLView",
            "description": "",
            "description_tooltip": null,
            "layout": "IPY_MODEL_e3d9329b38f44c0ab1410950a17f38c3",
            "placeholder": "​",
            "style": "IPY_MODEL_be76efdf1aa14fc88824d4f5f1824137",
            "value": " 30000/30000 [00:00&lt;00:00, 48916.66it/s]"
          }
        },
        "7344bf8535fc40729fe1f82e1cdf725c": {
          "model_module": "@jupyter-widgets/base",
          "model_name": "LayoutModel",
          "model_module_version": "1.2.0",
          "state": {
            "_model_module": "@jupyter-widgets/base",
            "_model_module_version": "1.2.0",
            "_model_name": "LayoutModel",
            "_view_count": null,
            "_view_module": "@jupyter-widgets/base",
            "_view_module_version": "1.2.0",
            "_view_name": "LayoutView",
            "align_content": null,
            "align_items": null,
            "align_self": null,
            "border": null,
            "bottom": null,
            "display": null,
            "flex": null,
            "flex_flow": null,
            "grid_area": null,
            "grid_auto_columns": null,
            "grid_auto_flow": null,
            "grid_auto_rows": null,
            "grid_column": null,
            "grid_gap": null,
            "grid_row": null,
            "grid_template_areas": null,
            "grid_template_columns": null,
            "grid_template_rows": null,
            "height": null,
            "justify_content": null,
            "justify_items": null,
            "left": null,
            "margin": null,
            "max_height": null,
            "max_width": null,
            "min_height": null,
            "min_width": null,
            "object_fit": null,
            "object_position": null,
            "order": null,
            "overflow": null,
            "overflow_x": null,
            "overflow_y": null,
            "padding": null,
            "right": null,
            "top": null,
            "visibility": null,
            "width": null
          }
        },
        "20854a01c2f54497a8016bc220a27b55": {
          "model_module": "@jupyter-widgets/base",
          "model_name": "LayoutModel",
          "model_module_version": "1.2.0",
          "state": {
            "_model_module": "@jupyter-widgets/base",
            "_model_module_version": "1.2.0",
            "_model_name": "LayoutModel",
            "_view_count": null,
            "_view_module": "@jupyter-widgets/base",
            "_view_module_version": "1.2.0",
            "_view_name": "LayoutView",
            "align_content": null,
            "align_items": null,
            "align_self": null,
            "border": null,
            "bottom": null,
            "display": null,
            "flex": null,
            "flex_flow": null,
            "grid_area": null,
            "grid_auto_columns": null,
            "grid_auto_flow": null,
            "grid_auto_rows": null,
            "grid_column": null,
            "grid_gap": null,
            "grid_row": null,
            "grid_template_areas": null,
            "grid_template_columns": null,
            "grid_template_rows": null,
            "height": null,
            "justify_content": null,
            "justify_items": null,
            "left": null,
            "margin": null,
            "max_height": null,
            "max_width": null,
            "min_height": null,
            "min_width": null,
            "object_fit": null,
            "object_position": null,
            "order": null,
            "overflow": null,
            "overflow_x": null,
            "overflow_y": null,
            "padding": null,
            "right": null,
            "top": null,
            "visibility": null,
            "width": null
          }
        },
        "423fe5358cd4420cba7368b4bfa30936": {
          "model_module": "@jupyter-widgets/controls",
          "model_name": "DescriptionStyleModel",
          "model_module_version": "1.5.0",
          "state": {
            "_model_module": "@jupyter-widgets/controls",
            "_model_module_version": "1.5.0",
            "_model_name": "DescriptionStyleModel",
            "_view_count": null,
            "_view_module": "@jupyter-widgets/base",
            "_view_module_version": "1.2.0",
            "_view_name": "StyleView",
            "description_width": ""
          }
        },
        "c4007364d708484ba06109ff5f0a173e": {
          "model_module": "@jupyter-widgets/base",
          "model_name": "LayoutModel",
          "model_module_version": "1.2.0",
          "state": {
            "_model_module": "@jupyter-widgets/base",
            "_model_module_version": "1.2.0",
            "_model_name": "LayoutModel",
            "_view_count": null,
            "_view_module": "@jupyter-widgets/base",
            "_view_module_version": "1.2.0",
            "_view_name": "LayoutView",
            "align_content": null,
            "align_items": null,
            "align_self": null,
            "border": null,
            "bottom": null,
            "display": null,
            "flex": null,
            "flex_flow": null,
            "grid_area": null,
            "grid_auto_columns": null,
            "grid_auto_flow": null,
            "grid_auto_rows": null,
            "grid_column": null,
            "grid_gap": null,
            "grid_row": null,
            "grid_template_areas": null,
            "grid_template_columns": null,
            "grid_template_rows": null,
            "height": null,
            "justify_content": null,
            "justify_items": null,
            "left": null,
            "margin": null,
            "max_height": null,
            "max_width": null,
            "min_height": null,
            "min_width": null,
            "object_fit": null,
            "object_position": null,
            "order": null,
            "overflow": null,
            "overflow_x": null,
            "overflow_y": null,
            "padding": null,
            "right": null,
            "top": null,
            "visibility": null,
            "width": null
          }
        },
        "d3e9a2978611474e931f1c8d5b300ace": {
          "model_module": "@jupyter-widgets/controls",
          "model_name": "ProgressStyleModel",
          "model_module_version": "1.5.0",
          "state": {
            "_model_module": "@jupyter-widgets/controls",
            "_model_module_version": "1.5.0",
            "_model_name": "ProgressStyleModel",
            "_view_count": null,
            "_view_module": "@jupyter-widgets/base",
            "_view_module_version": "1.2.0",
            "_view_name": "StyleView",
            "bar_color": null,
            "description_width": ""
          }
        },
        "e3d9329b38f44c0ab1410950a17f38c3": {
          "model_module": "@jupyter-widgets/base",
          "model_name": "LayoutModel",
          "model_module_version": "1.2.0",
          "state": {
            "_model_module": "@jupyter-widgets/base",
            "_model_module_version": "1.2.0",
            "_model_name": "LayoutModel",
            "_view_count": null,
            "_view_module": "@jupyter-widgets/base",
            "_view_module_version": "1.2.0",
            "_view_name": "LayoutView",
            "align_content": null,
            "align_items": null,
            "align_self": null,
            "border": null,
            "bottom": null,
            "display": null,
            "flex": null,
            "flex_flow": null,
            "grid_area": null,
            "grid_auto_columns": null,
            "grid_auto_flow": null,
            "grid_auto_rows": null,
            "grid_column": null,
            "grid_gap": null,
            "grid_row": null,
            "grid_template_areas": null,
            "grid_template_columns": null,
            "grid_template_rows": null,
            "height": null,
            "justify_content": null,
            "justify_items": null,
            "left": null,
            "margin": null,
            "max_height": null,
            "max_width": null,
            "min_height": null,
            "min_width": null,
            "object_fit": null,
            "object_position": null,
            "order": null,
            "overflow": null,
            "overflow_x": null,
            "overflow_y": null,
            "padding": null,
            "right": null,
            "top": null,
            "visibility": null,
            "width": null
          }
        },
        "be76efdf1aa14fc88824d4f5f1824137": {
          "model_module": "@jupyter-widgets/controls",
          "model_name": "DescriptionStyleModel",
          "model_module_version": "1.5.0",
          "state": {
            "_model_module": "@jupyter-widgets/controls",
            "_model_module_version": "1.5.0",
            "_model_name": "DescriptionStyleModel",
            "_view_count": null,
            "_view_module": "@jupyter-widgets/base",
            "_view_module_version": "1.2.0",
            "_view_name": "StyleView",
            "description_width": ""
          }
        },
        "f5e3b040e6164d4491545be9e2e7be58": {
          "model_module": "@jupyter-widgets/controls",
          "model_name": "HBoxModel",
          "model_module_version": "1.5.0",
          "state": {
            "_dom_classes": [],
            "_model_module": "@jupyter-widgets/controls",
            "_model_module_version": "1.5.0",
            "_model_name": "HBoxModel",
            "_view_count": null,
            "_view_module": "@jupyter-widgets/controls",
            "_view_module_version": "1.5.0",
            "_view_name": "HBoxView",
            "box_style": "",
            "children": [
              "IPY_MODEL_dfc5648da8a748538954cf0359ceae51",
              "IPY_MODEL_69ea96f6dfe24ce7b7cfe3c1cf8721ea",
              "IPY_MODEL_5ca81f9753a74457a6fa76b77e57d6db"
            ],
            "layout": "IPY_MODEL_945287c3d08f488483b3450c5b4b70f1"
          }
        },
        "dfc5648da8a748538954cf0359ceae51": {
          "model_module": "@jupyter-widgets/controls",
          "model_name": "HTMLModel",
          "model_module_version": "1.5.0",
          "state": {
            "_dom_classes": [],
            "_model_module": "@jupyter-widgets/controls",
            "_model_module_version": "1.5.0",
            "_model_name": "HTMLModel",
            "_view_count": null,
            "_view_module": "@jupyter-widgets/controls",
            "_view_module_version": "1.5.0",
            "_view_name": "HTMLView",
            "description": "",
            "description_tooltip": null,
            "layout": "IPY_MODEL_85d8d0c5c291436f9f9292afa614ac6e",
            "placeholder": "​",
            "style": "IPY_MODEL_1ee0ba035c324cb5b98fb2aa261542f2",
            "value": "100%"
          }
        },
        "69ea96f6dfe24ce7b7cfe3c1cf8721ea": {
          "model_module": "@jupyter-widgets/controls",
          "model_name": "FloatProgressModel",
          "model_module_version": "1.5.0",
          "state": {
            "_dom_classes": [],
            "_model_module": "@jupyter-widgets/controls",
            "_model_module_version": "1.5.0",
            "_model_name": "FloatProgressModel",
            "_view_count": null,
            "_view_module": "@jupyter-widgets/controls",
            "_view_module_version": "1.5.0",
            "_view_name": "ProgressView",
            "bar_style": "success",
            "description": "",
            "description_tooltip": null,
            "layout": "IPY_MODEL_4537430e899448d68b955462a77f9285",
            "max": 30000,
            "min": 0,
            "orientation": "horizontal",
            "style": "IPY_MODEL_2fefbe39ebf8459f9ae6c1138e1de5a1",
            "value": 30000
          }
        },
        "5ca81f9753a74457a6fa76b77e57d6db": {
          "model_module": "@jupyter-widgets/controls",
          "model_name": "HTMLModel",
          "model_module_version": "1.5.0",
          "state": {
            "_dom_classes": [],
            "_model_module": "@jupyter-widgets/controls",
            "_model_module_version": "1.5.0",
            "_model_name": "HTMLModel",
            "_view_count": null,
            "_view_module": "@jupyter-widgets/controls",
            "_view_module_version": "1.5.0",
            "_view_name": "HTMLView",
            "description": "",
            "description_tooltip": null,
            "layout": "IPY_MODEL_c301eefb00cd4f97938208a0efdd135e",
            "placeholder": "​",
            "style": "IPY_MODEL_f869ab58958948c4930a710eecaedda6",
            "value": " 30000/30000 [00:00&lt;00:00, 62777.74it/s]"
          }
        },
        "945287c3d08f488483b3450c5b4b70f1": {
          "model_module": "@jupyter-widgets/base",
          "model_name": "LayoutModel",
          "model_module_version": "1.2.0",
          "state": {
            "_model_module": "@jupyter-widgets/base",
            "_model_module_version": "1.2.0",
            "_model_name": "LayoutModel",
            "_view_count": null,
            "_view_module": "@jupyter-widgets/base",
            "_view_module_version": "1.2.0",
            "_view_name": "LayoutView",
            "align_content": null,
            "align_items": null,
            "align_self": null,
            "border": null,
            "bottom": null,
            "display": null,
            "flex": null,
            "flex_flow": null,
            "grid_area": null,
            "grid_auto_columns": null,
            "grid_auto_flow": null,
            "grid_auto_rows": null,
            "grid_column": null,
            "grid_gap": null,
            "grid_row": null,
            "grid_template_areas": null,
            "grid_template_columns": null,
            "grid_template_rows": null,
            "height": null,
            "justify_content": null,
            "justify_items": null,
            "left": null,
            "margin": null,
            "max_height": null,
            "max_width": null,
            "min_height": null,
            "min_width": null,
            "object_fit": null,
            "object_position": null,
            "order": null,
            "overflow": null,
            "overflow_x": null,
            "overflow_y": null,
            "padding": null,
            "right": null,
            "top": null,
            "visibility": null,
            "width": null
          }
        },
        "85d8d0c5c291436f9f9292afa614ac6e": {
          "model_module": "@jupyter-widgets/base",
          "model_name": "LayoutModel",
          "model_module_version": "1.2.0",
          "state": {
            "_model_module": "@jupyter-widgets/base",
            "_model_module_version": "1.2.0",
            "_model_name": "LayoutModel",
            "_view_count": null,
            "_view_module": "@jupyter-widgets/base",
            "_view_module_version": "1.2.0",
            "_view_name": "LayoutView",
            "align_content": null,
            "align_items": null,
            "align_self": null,
            "border": null,
            "bottom": null,
            "display": null,
            "flex": null,
            "flex_flow": null,
            "grid_area": null,
            "grid_auto_columns": null,
            "grid_auto_flow": null,
            "grid_auto_rows": null,
            "grid_column": null,
            "grid_gap": null,
            "grid_row": null,
            "grid_template_areas": null,
            "grid_template_columns": null,
            "grid_template_rows": null,
            "height": null,
            "justify_content": null,
            "justify_items": null,
            "left": null,
            "margin": null,
            "max_height": null,
            "max_width": null,
            "min_height": null,
            "min_width": null,
            "object_fit": null,
            "object_position": null,
            "order": null,
            "overflow": null,
            "overflow_x": null,
            "overflow_y": null,
            "padding": null,
            "right": null,
            "top": null,
            "visibility": null,
            "width": null
          }
        },
        "1ee0ba035c324cb5b98fb2aa261542f2": {
          "model_module": "@jupyter-widgets/controls",
          "model_name": "DescriptionStyleModel",
          "model_module_version": "1.5.0",
          "state": {
            "_model_module": "@jupyter-widgets/controls",
            "_model_module_version": "1.5.0",
            "_model_name": "DescriptionStyleModel",
            "_view_count": null,
            "_view_module": "@jupyter-widgets/base",
            "_view_module_version": "1.2.0",
            "_view_name": "StyleView",
            "description_width": ""
          }
        },
        "4537430e899448d68b955462a77f9285": {
          "model_module": "@jupyter-widgets/base",
          "model_name": "LayoutModel",
          "model_module_version": "1.2.0",
          "state": {
            "_model_module": "@jupyter-widgets/base",
            "_model_module_version": "1.2.0",
            "_model_name": "LayoutModel",
            "_view_count": null,
            "_view_module": "@jupyter-widgets/base",
            "_view_module_version": "1.2.0",
            "_view_name": "LayoutView",
            "align_content": null,
            "align_items": null,
            "align_self": null,
            "border": null,
            "bottom": null,
            "display": null,
            "flex": null,
            "flex_flow": null,
            "grid_area": null,
            "grid_auto_columns": null,
            "grid_auto_flow": null,
            "grid_auto_rows": null,
            "grid_column": null,
            "grid_gap": null,
            "grid_row": null,
            "grid_template_areas": null,
            "grid_template_columns": null,
            "grid_template_rows": null,
            "height": null,
            "justify_content": null,
            "justify_items": null,
            "left": null,
            "margin": null,
            "max_height": null,
            "max_width": null,
            "min_height": null,
            "min_width": null,
            "object_fit": null,
            "object_position": null,
            "order": null,
            "overflow": null,
            "overflow_x": null,
            "overflow_y": null,
            "padding": null,
            "right": null,
            "top": null,
            "visibility": null,
            "width": null
          }
        },
        "2fefbe39ebf8459f9ae6c1138e1de5a1": {
          "model_module": "@jupyter-widgets/controls",
          "model_name": "ProgressStyleModel",
          "model_module_version": "1.5.0",
          "state": {
            "_model_module": "@jupyter-widgets/controls",
            "_model_module_version": "1.5.0",
            "_model_name": "ProgressStyleModel",
            "_view_count": null,
            "_view_module": "@jupyter-widgets/base",
            "_view_module_version": "1.2.0",
            "_view_name": "StyleView",
            "bar_color": null,
            "description_width": ""
          }
        },
        "c301eefb00cd4f97938208a0efdd135e": {
          "model_module": "@jupyter-widgets/base",
          "model_name": "LayoutModel",
          "model_module_version": "1.2.0",
          "state": {
            "_model_module": "@jupyter-widgets/base",
            "_model_module_version": "1.2.0",
            "_model_name": "LayoutModel",
            "_view_count": null,
            "_view_module": "@jupyter-widgets/base",
            "_view_module_version": "1.2.0",
            "_view_name": "LayoutView",
            "align_content": null,
            "align_items": null,
            "align_self": null,
            "border": null,
            "bottom": null,
            "display": null,
            "flex": null,
            "flex_flow": null,
            "grid_area": null,
            "grid_auto_columns": null,
            "grid_auto_flow": null,
            "grid_auto_rows": null,
            "grid_column": null,
            "grid_gap": null,
            "grid_row": null,
            "grid_template_areas": null,
            "grid_template_columns": null,
            "grid_template_rows": null,
            "height": null,
            "justify_content": null,
            "justify_items": null,
            "left": null,
            "margin": null,
            "max_height": null,
            "max_width": null,
            "min_height": null,
            "min_width": null,
            "object_fit": null,
            "object_position": null,
            "order": null,
            "overflow": null,
            "overflow_x": null,
            "overflow_y": null,
            "padding": null,
            "right": null,
            "top": null,
            "visibility": null,
            "width": null
          }
        },
        "f869ab58958948c4930a710eecaedda6": {
          "model_module": "@jupyter-widgets/controls",
          "model_name": "DescriptionStyleModel",
          "model_module_version": "1.5.0",
          "state": {
            "_model_module": "@jupyter-widgets/controls",
            "_model_module_version": "1.5.0",
            "_model_name": "DescriptionStyleModel",
            "_view_count": null,
            "_view_module": "@jupyter-widgets/base",
            "_view_module_version": "1.2.0",
            "_view_name": "StyleView",
            "description_width": ""
          }
        },
        "2b9b17e2dcec4923a49045565c67299b": {
          "model_module": "@jupyter-widgets/controls",
          "model_name": "HBoxModel",
          "model_module_version": "1.5.0",
          "state": {
            "_dom_classes": [],
            "_model_module": "@jupyter-widgets/controls",
            "_model_module_version": "1.5.0",
            "_model_name": "HBoxModel",
            "_view_count": null,
            "_view_module": "@jupyter-widgets/controls",
            "_view_module_version": "1.5.0",
            "_view_name": "HBoxView",
            "box_style": "",
            "children": [
              "IPY_MODEL_1057e56bbab4457eb2c9cebfb17dae4e",
              "IPY_MODEL_d78b590f2e5a41849a8fbbf4729961b4",
              "IPY_MODEL_e91bf944c5ac4107889ae6de5a3f89e5"
            ],
            "layout": "IPY_MODEL_1a7a3e61bb1f453a862bf0c1fd795587"
          }
        },
        "1057e56bbab4457eb2c9cebfb17dae4e": {
          "model_module": "@jupyter-widgets/controls",
          "model_name": "HTMLModel",
          "model_module_version": "1.5.0",
          "state": {
            "_dom_classes": [],
            "_model_module": "@jupyter-widgets/controls",
            "_model_module_version": "1.5.0",
            "_model_name": "HTMLModel",
            "_view_count": null,
            "_view_module": "@jupyter-widgets/controls",
            "_view_module_version": "1.5.0",
            "_view_name": "HTMLView",
            "description": "",
            "description_tooltip": null,
            "layout": "IPY_MODEL_f09655b9b5784a58a55e3e930ae51d42",
            "placeholder": "​",
            "style": "IPY_MODEL_674483d5be584073b20dc04ab75c5653",
            "value": "100%"
          }
        },
        "d78b590f2e5a41849a8fbbf4729961b4": {
          "model_module": "@jupyter-widgets/controls",
          "model_name": "FloatProgressModel",
          "model_module_version": "1.5.0",
          "state": {
            "_dom_classes": [],
            "_model_module": "@jupyter-widgets/controls",
            "_model_module_version": "1.5.0",
            "_model_name": "FloatProgressModel",
            "_view_count": null,
            "_view_module": "@jupyter-widgets/controls",
            "_view_module_version": "1.5.0",
            "_view_name": "ProgressView",
            "bar_style": "success",
            "description": "",
            "description_tooltip": null,
            "layout": "IPY_MODEL_5951fe05a6374f5180a3a3a83afd6626",
            "max": 40000,
            "min": 0,
            "orientation": "horizontal",
            "style": "IPY_MODEL_00a5b4698294489cb10884f3e0dd6720",
            "value": 40000
          }
        },
        "e91bf944c5ac4107889ae6de5a3f89e5": {
          "model_module": "@jupyter-widgets/controls",
          "model_name": "HTMLModel",
          "model_module_version": "1.5.0",
          "state": {
            "_dom_classes": [],
            "_model_module": "@jupyter-widgets/controls",
            "_model_module_version": "1.5.0",
            "_model_name": "HTMLModel",
            "_view_count": null,
            "_view_module": "@jupyter-widgets/controls",
            "_view_module_version": "1.5.0",
            "_view_name": "HTMLView",
            "description": "",
            "description_tooltip": null,
            "layout": "IPY_MODEL_1e7c5206a9354391b818a36f9c1c0bfb",
            "placeholder": "​",
            "style": "IPY_MODEL_fe9e8feea35d42fda48ae0debd26d996",
            "value": " 40000/40000 [00:00&lt;00:00, 46884.49it/s]"
          }
        },
        "1a7a3e61bb1f453a862bf0c1fd795587": {
          "model_module": "@jupyter-widgets/base",
          "model_name": "LayoutModel",
          "model_module_version": "1.2.0",
          "state": {
            "_model_module": "@jupyter-widgets/base",
            "_model_module_version": "1.2.0",
            "_model_name": "LayoutModel",
            "_view_count": null,
            "_view_module": "@jupyter-widgets/base",
            "_view_module_version": "1.2.0",
            "_view_name": "LayoutView",
            "align_content": null,
            "align_items": null,
            "align_self": null,
            "border": null,
            "bottom": null,
            "display": null,
            "flex": null,
            "flex_flow": null,
            "grid_area": null,
            "grid_auto_columns": null,
            "grid_auto_flow": null,
            "grid_auto_rows": null,
            "grid_column": null,
            "grid_gap": null,
            "grid_row": null,
            "grid_template_areas": null,
            "grid_template_columns": null,
            "grid_template_rows": null,
            "height": null,
            "justify_content": null,
            "justify_items": null,
            "left": null,
            "margin": null,
            "max_height": null,
            "max_width": null,
            "min_height": null,
            "min_width": null,
            "object_fit": null,
            "object_position": null,
            "order": null,
            "overflow": null,
            "overflow_x": null,
            "overflow_y": null,
            "padding": null,
            "right": null,
            "top": null,
            "visibility": null,
            "width": null
          }
        },
        "f09655b9b5784a58a55e3e930ae51d42": {
          "model_module": "@jupyter-widgets/base",
          "model_name": "LayoutModel",
          "model_module_version": "1.2.0",
          "state": {
            "_model_module": "@jupyter-widgets/base",
            "_model_module_version": "1.2.0",
            "_model_name": "LayoutModel",
            "_view_count": null,
            "_view_module": "@jupyter-widgets/base",
            "_view_module_version": "1.2.0",
            "_view_name": "LayoutView",
            "align_content": null,
            "align_items": null,
            "align_self": null,
            "border": null,
            "bottom": null,
            "display": null,
            "flex": null,
            "flex_flow": null,
            "grid_area": null,
            "grid_auto_columns": null,
            "grid_auto_flow": null,
            "grid_auto_rows": null,
            "grid_column": null,
            "grid_gap": null,
            "grid_row": null,
            "grid_template_areas": null,
            "grid_template_columns": null,
            "grid_template_rows": null,
            "height": null,
            "justify_content": null,
            "justify_items": null,
            "left": null,
            "margin": null,
            "max_height": null,
            "max_width": null,
            "min_height": null,
            "min_width": null,
            "object_fit": null,
            "object_position": null,
            "order": null,
            "overflow": null,
            "overflow_x": null,
            "overflow_y": null,
            "padding": null,
            "right": null,
            "top": null,
            "visibility": null,
            "width": null
          }
        },
        "674483d5be584073b20dc04ab75c5653": {
          "model_module": "@jupyter-widgets/controls",
          "model_name": "DescriptionStyleModel",
          "model_module_version": "1.5.0",
          "state": {
            "_model_module": "@jupyter-widgets/controls",
            "_model_module_version": "1.5.0",
            "_model_name": "DescriptionStyleModel",
            "_view_count": null,
            "_view_module": "@jupyter-widgets/base",
            "_view_module_version": "1.2.0",
            "_view_name": "StyleView",
            "description_width": ""
          }
        },
        "5951fe05a6374f5180a3a3a83afd6626": {
          "model_module": "@jupyter-widgets/base",
          "model_name": "LayoutModel",
          "model_module_version": "1.2.0",
          "state": {
            "_model_module": "@jupyter-widgets/base",
            "_model_module_version": "1.2.0",
            "_model_name": "LayoutModel",
            "_view_count": null,
            "_view_module": "@jupyter-widgets/base",
            "_view_module_version": "1.2.0",
            "_view_name": "LayoutView",
            "align_content": null,
            "align_items": null,
            "align_self": null,
            "border": null,
            "bottom": null,
            "display": null,
            "flex": null,
            "flex_flow": null,
            "grid_area": null,
            "grid_auto_columns": null,
            "grid_auto_flow": null,
            "grid_auto_rows": null,
            "grid_column": null,
            "grid_gap": null,
            "grid_row": null,
            "grid_template_areas": null,
            "grid_template_columns": null,
            "grid_template_rows": null,
            "height": null,
            "justify_content": null,
            "justify_items": null,
            "left": null,
            "margin": null,
            "max_height": null,
            "max_width": null,
            "min_height": null,
            "min_width": null,
            "object_fit": null,
            "object_position": null,
            "order": null,
            "overflow": null,
            "overflow_x": null,
            "overflow_y": null,
            "padding": null,
            "right": null,
            "top": null,
            "visibility": null,
            "width": null
          }
        },
        "00a5b4698294489cb10884f3e0dd6720": {
          "model_module": "@jupyter-widgets/controls",
          "model_name": "ProgressStyleModel",
          "model_module_version": "1.5.0",
          "state": {
            "_model_module": "@jupyter-widgets/controls",
            "_model_module_version": "1.5.0",
            "_model_name": "ProgressStyleModel",
            "_view_count": null,
            "_view_module": "@jupyter-widgets/base",
            "_view_module_version": "1.2.0",
            "_view_name": "StyleView",
            "bar_color": null,
            "description_width": ""
          }
        },
        "1e7c5206a9354391b818a36f9c1c0bfb": {
          "model_module": "@jupyter-widgets/base",
          "model_name": "LayoutModel",
          "model_module_version": "1.2.0",
          "state": {
            "_model_module": "@jupyter-widgets/base",
            "_model_module_version": "1.2.0",
            "_model_name": "LayoutModel",
            "_view_count": null,
            "_view_module": "@jupyter-widgets/base",
            "_view_module_version": "1.2.0",
            "_view_name": "LayoutView",
            "align_content": null,
            "align_items": null,
            "align_self": null,
            "border": null,
            "bottom": null,
            "display": null,
            "flex": null,
            "flex_flow": null,
            "grid_area": null,
            "grid_auto_columns": null,
            "grid_auto_flow": null,
            "grid_auto_rows": null,
            "grid_column": null,
            "grid_gap": null,
            "grid_row": null,
            "grid_template_areas": null,
            "grid_template_columns": null,
            "grid_template_rows": null,
            "height": null,
            "justify_content": null,
            "justify_items": null,
            "left": null,
            "margin": null,
            "max_height": null,
            "max_width": null,
            "min_height": null,
            "min_width": null,
            "object_fit": null,
            "object_position": null,
            "order": null,
            "overflow": null,
            "overflow_x": null,
            "overflow_y": null,
            "padding": null,
            "right": null,
            "top": null,
            "visibility": null,
            "width": null
          }
        },
        "fe9e8feea35d42fda48ae0debd26d996": {
          "model_module": "@jupyter-widgets/controls",
          "model_name": "DescriptionStyleModel",
          "model_module_version": "1.5.0",
          "state": {
            "_model_module": "@jupyter-widgets/controls",
            "_model_module_version": "1.5.0",
            "_model_name": "DescriptionStyleModel",
            "_view_count": null,
            "_view_module": "@jupyter-widgets/base",
            "_view_module_version": "1.2.0",
            "_view_name": "StyleView",
            "description_width": ""
          }
        },
        "042d412dcf1a487e8c954e002339ace3": {
          "model_module": "@jupyter-widgets/controls",
          "model_name": "HBoxModel",
          "model_module_version": "1.5.0",
          "state": {
            "_dom_classes": [],
            "_model_module": "@jupyter-widgets/controls",
            "_model_module_version": "1.5.0",
            "_model_name": "HBoxModel",
            "_view_count": null,
            "_view_module": "@jupyter-widgets/controls",
            "_view_module_version": "1.5.0",
            "_view_name": "HBoxView",
            "box_style": "",
            "children": [
              "IPY_MODEL_a4cf6a9bd2904ec88def550d18be44bf",
              "IPY_MODEL_4f160f8218dd495cb623920cdcef5d30",
              "IPY_MODEL_0e02a2830d284b308c739c244358f121"
            ],
            "layout": "IPY_MODEL_6f066851612d4089ab186f78f6cb8eab"
          }
        },
        "a4cf6a9bd2904ec88def550d18be44bf": {
          "model_module": "@jupyter-widgets/controls",
          "model_name": "HTMLModel",
          "model_module_version": "1.5.0",
          "state": {
            "_dom_classes": [],
            "_model_module": "@jupyter-widgets/controls",
            "_model_module_version": "1.5.0",
            "_model_name": "HTMLModel",
            "_view_count": null,
            "_view_module": "@jupyter-widgets/controls",
            "_view_module_version": "1.5.0",
            "_view_name": "HTMLView",
            "description": "",
            "description_tooltip": null,
            "layout": "IPY_MODEL_2d75b9425d5044aaa79ba7cfb1432bb3",
            "placeholder": "​",
            "style": "IPY_MODEL_6f01e2ad48d64009bbbd24747946ff35",
            "value": "100%"
          }
        },
        "4f160f8218dd495cb623920cdcef5d30": {
          "model_module": "@jupyter-widgets/controls",
          "model_name": "FloatProgressModel",
          "model_module_version": "1.5.0",
          "state": {
            "_dom_classes": [],
            "_model_module": "@jupyter-widgets/controls",
            "_model_module_version": "1.5.0",
            "_model_name": "FloatProgressModel",
            "_view_count": null,
            "_view_module": "@jupyter-widgets/controls",
            "_view_module_version": "1.5.0",
            "_view_name": "ProgressView",
            "bar_style": "success",
            "description": "",
            "description_tooltip": null,
            "layout": "IPY_MODEL_3c4f946d90f3468b89ef6ac9ba522378",
            "max": 40000,
            "min": 0,
            "orientation": "horizontal",
            "style": "IPY_MODEL_c8400d2b64de4717978475b2306cce1a",
            "value": 40000
          }
        },
        "0e02a2830d284b308c739c244358f121": {
          "model_module": "@jupyter-widgets/controls",
          "model_name": "HTMLModel",
          "model_module_version": "1.5.0",
          "state": {
            "_dom_classes": [],
            "_model_module": "@jupyter-widgets/controls",
            "_model_module_version": "1.5.0",
            "_model_name": "HTMLModel",
            "_view_count": null,
            "_view_module": "@jupyter-widgets/controls",
            "_view_module_version": "1.5.0",
            "_view_name": "HTMLView",
            "description": "",
            "description_tooltip": null,
            "layout": "IPY_MODEL_574b7a88509e432f98a428f4e28e3851",
            "placeholder": "​",
            "style": "IPY_MODEL_4330644018724ddc93ec54a0b04fde62",
            "value": " 40000/40000 [00:00&lt;00:00, 72371.21it/s]"
          }
        },
        "6f066851612d4089ab186f78f6cb8eab": {
          "model_module": "@jupyter-widgets/base",
          "model_name": "LayoutModel",
          "model_module_version": "1.2.0",
          "state": {
            "_model_module": "@jupyter-widgets/base",
            "_model_module_version": "1.2.0",
            "_model_name": "LayoutModel",
            "_view_count": null,
            "_view_module": "@jupyter-widgets/base",
            "_view_module_version": "1.2.0",
            "_view_name": "LayoutView",
            "align_content": null,
            "align_items": null,
            "align_self": null,
            "border": null,
            "bottom": null,
            "display": null,
            "flex": null,
            "flex_flow": null,
            "grid_area": null,
            "grid_auto_columns": null,
            "grid_auto_flow": null,
            "grid_auto_rows": null,
            "grid_column": null,
            "grid_gap": null,
            "grid_row": null,
            "grid_template_areas": null,
            "grid_template_columns": null,
            "grid_template_rows": null,
            "height": null,
            "justify_content": null,
            "justify_items": null,
            "left": null,
            "margin": null,
            "max_height": null,
            "max_width": null,
            "min_height": null,
            "min_width": null,
            "object_fit": null,
            "object_position": null,
            "order": null,
            "overflow": null,
            "overflow_x": null,
            "overflow_y": null,
            "padding": null,
            "right": null,
            "top": null,
            "visibility": null,
            "width": null
          }
        },
        "2d75b9425d5044aaa79ba7cfb1432bb3": {
          "model_module": "@jupyter-widgets/base",
          "model_name": "LayoutModel",
          "model_module_version": "1.2.0",
          "state": {
            "_model_module": "@jupyter-widgets/base",
            "_model_module_version": "1.2.0",
            "_model_name": "LayoutModel",
            "_view_count": null,
            "_view_module": "@jupyter-widgets/base",
            "_view_module_version": "1.2.0",
            "_view_name": "LayoutView",
            "align_content": null,
            "align_items": null,
            "align_self": null,
            "border": null,
            "bottom": null,
            "display": null,
            "flex": null,
            "flex_flow": null,
            "grid_area": null,
            "grid_auto_columns": null,
            "grid_auto_flow": null,
            "grid_auto_rows": null,
            "grid_column": null,
            "grid_gap": null,
            "grid_row": null,
            "grid_template_areas": null,
            "grid_template_columns": null,
            "grid_template_rows": null,
            "height": null,
            "justify_content": null,
            "justify_items": null,
            "left": null,
            "margin": null,
            "max_height": null,
            "max_width": null,
            "min_height": null,
            "min_width": null,
            "object_fit": null,
            "object_position": null,
            "order": null,
            "overflow": null,
            "overflow_x": null,
            "overflow_y": null,
            "padding": null,
            "right": null,
            "top": null,
            "visibility": null,
            "width": null
          }
        },
        "6f01e2ad48d64009bbbd24747946ff35": {
          "model_module": "@jupyter-widgets/controls",
          "model_name": "DescriptionStyleModel",
          "model_module_version": "1.5.0",
          "state": {
            "_model_module": "@jupyter-widgets/controls",
            "_model_module_version": "1.5.0",
            "_model_name": "DescriptionStyleModel",
            "_view_count": null,
            "_view_module": "@jupyter-widgets/base",
            "_view_module_version": "1.2.0",
            "_view_name": "StyleView",
            "description_width": ""
          }
        },
        "3c4f946d90f3468b89ef6ac9ba522378": {
          "model_module": "@jupyter-widgets/base",
          "model_name": "LayoutModel",
          "model_module_version": "1.2.0",
          "state": {
            "_model_module": "@jupyter-widgets/base",
            "_model_module_version": "1.2.0",
            "_model_name": "LayoutModel",
            "_view_count": null,
            "_view_module": "@jupyter-widgets/base",
            "_view_module_version": "1.2.0",
            "_view_name": "LayoutView",
            "align_content": null,
            "align_items": null,
            "align_self": null,
            "border": null,
            "bottom": null,
            "display": null,
            "flex": null,
            "flex_flow": null,
            "grid_area": null,
            "grid_auto_columns": null,
            "grid_auto_flow": null,
            "grid_auto_rows": null,
            "grid_column": null,
            "grid_gap": null,
            "grid_row": null,
            "grid_template_areas": null,
            "grid_template_columns": null,
            "grid_template_rows": null,
            "height": null,
            "justify_content": null,
            "justify_items": null,
            "left": null,
            "margin": null,
            "max_height": null,
            "max_width": null,
            "min_height": null,
            "min_width": null,
            "object_fit": null,
            "object_position": null,
            "order": null,
            "overflow": null,
            "overflow_x": null,
            "overflow_y": null,
            "padding": null,
            "right": null,
            "top": null,
            "visibility": null,
            "width": null
          }
        },
        "c8400d2b64de4717978475b2306cce1a": {
          "model_module": "@jupyter-widgets/controls",
          "model_name": "ProgressStyleModel",
          "model_module_version": "1.5.0",
          "state": {
            "_model_module": "@jupyter-widgets/controls",
            "_model_module_version": "1.5.0",
            "_model_name": "ProgressStyleModel",
            "_view_count": null,
            "_view_module": "@jupyter-widgets/base",
            "_view_module_version": "1.2.0",
            "_view_name": "StyleView",
            "bar_color": null,
            "description_width": ""
          }
        },
        "574b7a88509e432f98a428f4e28e3851": {
          "model_module": "@jupyter-widgets/base",
          "model_name": "LayoutModel",
          "model_module_version": "1.2.0",
          "state": {
            "_model_module": "@jupyter-widgets/base",
            "_model_module_version": "1.2.0",
            "_model_name": "LayoutModel",
            "_view_count": null,
            "_view_module": "@jupyter-widgets/base",
            "_view_module_version": "1.2.0",
            "_view_name": "LayoutView",
            "align_content": null,
            "align_items": null,
            "align_self": null,
            "border": null,
            "bottom": null,
            "display": null,
            "flex": null,
            "flex_flow": null,
            "grid_area": null,
            "grid_auto_columns": null,
            "grid_auto_flow": null,
            "grid_auto_rows": null,
            "grid_column": null,
            "grid_gap": null,
            "grid_row": null,
            "grid_template_areas": null,
            "grid_template_columns": null,
            "grid_template_rows": null,
            "height": null,
            "justify_content": null,
            "justify_items": null,
            "left": null,
            "margin": null,
            "max_height": null,
            "max_width": null,
            "min_height": null,
            "min_width": null,
            "object_fit": null,
            "object_position": null,
            "order": null,
            "overflow": null,
            "overflow_x": null,
            "overflow_y": null,
            "padding": null,
            "right": null,
            "top": null,
            "visibility": null,
            "width": null
          }
        },
        "4330644018724ddc93ec54a0b04fde62": {
          "model_module": "@jupyter-widgets/controls",
          "model_name": "DescriptionStyleModel",
          "model_module_version": "1.5.0",
          "state": {
            "_model_module": "@jupyter-widgets/controls",
            "_model_module_version": "1.5.0",
            "_model_name": "DescriptionStyleModel",
            "_view_count": null,
            "_view_module": "@jupyter-widgets/base",
            "_view_module_version": "1.2.0",
            "_view_name": "StyleView",
            "description_width": ""
          }
        }
      }
    }
  },
  "nbformat": 4,
  "nbformat_minor": 5
}